{
 "cells": [
  {
   "cell_type": "code",
   "execution_count": 1,
   "metadata": {},
   "outputs": [],
   "source": [
    "import snap\n",
    "import numpy as np\n",
    "import random\n",
    "from scipy.stats import chi2_contingency"
   ]
  },
  {
   "cell_type": "code",
   "execution_count": 2,
   "metadata": {},
   "outputs": [],
   "source": [
    "def removeSelfEdges(G):\n",
    "    for edge in G.Edges():\n",
    "        u, v = edge.GetId()\n",
    "        if u == v:\n",
    "            G.DelEdge(u,v)\n",
    "    return G"
   ]
  },
  {
   "cell_type": "code",
   "execution_count": 3,
   "metadata": {},
   "outputs": [],
   "source": [
    "def loadNetworks():\n",
    "    '''\n",
    "    loads actors, erdos, pref networks\n",
    "    \n",
    "    returns a dictionary of {name: network}\n",
    "    '''\n",
    "    actors = removeSelfEdges(snap.LoadEdgeList(\n",
    "        snap.PUNGraph, \"data/imdb_actor_edges.tsv\", 0, 1, '\\t'))\n",
    "    assert actors.GetNodes() == 17577\n",
    "    assert actors.GetEdges() == 287074\n",
    "    erdos = removeSelfEdges(snap.LoadEdgeList(\n",
    "        snap.PUNGraph, \"data/SIR_erdos_renyi.txt\", 0, 1, '\\t'))\n",
    "    assert erdos.GetNodes() == 17577\n",
    "    assert erdos.GetEdges() == 287074\n",
    "    pref = removeSelfEdges(snap.LoadEdgeList(\n",
    "        snap.PUNGraph, \"data/SIR_preferential_attachment.txt\", 0, 1, '\\t'))\n",
    "    assert pref.GetNodes() == 17577\n",
    "    assert pref.GetEdges() == 281096\n",
    "    return {\"Actors\": actors,\n",
    "            \"Erdos-Renyi\" : erdos,\n",
    "            \"Preferential Attachment\" : pref}"
   ]
  },
  {
   "cell_type": "code",
   "execution_count": 4,
   "metadata": {},
   "outputs": [],
   "source": [
    "def simulation(G, infected, beta=0.05, delta=0.5):\n",
    "    '''\n",
    "    Simulates the SIR model of infections with the given beta and delta\n",
    "    parameters.\n",
    "    \n",
    "    returns: the percentage of nodes that become infected.\n",
    "    '''\n",
    "    nodes = set([node.GetId() for node in G.Nodes()])\n",
    "    susceptible = nodes - infected\n",
    "    recovered = set()\n",
    "    while len(infected) != 0:\n",
    "        noLongerSusceptible = set()\n",
    "        newlyInfected = set()\n",
    "        noLongerInfected = set()\n",
    "        newlyRecovered = set()\n",
    "        for node in G.Nodes():\n",
    "            u = node.GetId()\n",
    "            if u in susceptible:\n",
    "                for neighbor in [node.GetNbrNId(i)\n",
    "                                 for i in xrange(node.GetDeg())]:\n",
    "                    if (neighbor in infected and\n",
    "                        random.random() < beta):\n",
    "                        noLongerSusceptible.add(u)\n",
    "                        newlyInfected.add(u)\n",
    "                        break\n",
    "            elif (u in infected and random.random() < delta):\n",
    "                noLongerInfected.add(u)\n",
    "                newlyRecovered.add(u)\n",
    "                \n",
    "        susceptible -= noLongerSusceptible\n",
    "        infected = (infected | newlyInfected) - noLongerInfected\n",
    "        recovered |= newlyRecovered\n",
    "    \n",
    "    return len(recovered) / float(len(nodes))"
   ]
  },
  {
   "cell_type": "code",
   "execution_count": 5,
   "metadata": {},
   "outputs": [],
   "source": [
    "def runSimulations(networks, getInitialInfected, nSimulations = 100):\n",
    "    '''\n",
    "    Runs the simulations and returns list for the proportion of epidemics\n",
    "    in each network as well as a list of the percent infected for \n",
    "    each trial.\n",
    "    \n",
    "    return: dictionary with {networkname: trial_results}\n",
    "    '''\n",
    "    return {name: [simulation(G, getInitialInfected(G))\n",
    "                   for _ in xrange(nSimulations)]\n",
    "            for name, G in networks.iteritems()}"
   ]
  },
  {
   "cell_type": "code",
   "execution_count": 6,
   "metadata": {},
   "outputs": [],
   "source": [
    "def getEpidemics(results):\n",
    "    '''\n",
    "    Given a list of percent infected in each trial, calculates the\n",
    "    proportion considered epidemics.\n",
    "    \n",
    "    returns proportion (float)\n",
    "    '''\n",
    "    return [v for v in results if v >= 0.5]"
   ]
  },
  {
   "cell_type": "code",
   "execution_count": 7,
   "metadata": {},
   "outputs": [],
   "source": [
    "def printResultStatistics(results, runSignificanceTest=True):\n",
    "    for name, result in results.iteritems():\n",
    "        print(\"\\nResults for %s Network:\\n\" % name)\n",
    "        epidemics = getEpidemics(result)\n",
    "        e1 = len(epidemics)\n",
    "        if len(result) == 0:\n",
    "            continue\n",
    "        print(\"%s out of %s (%s%%) simulations in %s Network resulted \"\n",
    "              \"in an epidemic.\\n\" % (e1, len(result),\n",
    "                                   100*float(e1) / len(result), name))\n",
    "        print(\"On average across all trials, %s%% of the population \"\n",
    "              \"in %s Network was infected.\\n\" % (100*np.mean(result), name))\n",
    "        if len(epidemics) > 0:\n",
    "            print(\"On average across epidemic trials, %s%% of the population \"\n",
    "                  \"in %s Network was infected.\\n\" % (\n",
    "                      100*np.mean(epidemics), name))\n",
    "        else:\n",
    "            print(\"No epidemics occurred in %s Network.\\n\")\n",
    "    if runSignificanceTest:\n",
    "        print(\"Significance Tests:\\n\")\n",
    "        pairs = {}\n",
    "        for name1, result1 in results.iteritems():\n",
    "            for name2, result2 in results.iteritems():\n",
    "                key = tuple(sorted([name1, name2]))\n",
    "                if key not in pairs and name1 != name2:\n",
    "                    pairs[key] = True\n",
    "                    e1 = len(getEpidemics(result1))\n",
    "                    e2 = len(getEpidemics(result2))\n",
    "                    chi2, p, _, _ = chi2_contingency(\n",
    "                        [[e1, len(result1) - e1],\n",
    "                         [e2, len(result2) - e2]])\n",
    "                    print(\"%s vs %s: chi2 = %s, p = %s.\\n\" % (\n",
    "                        name1, name2, chi2, p))"
   ]
  },
  {
   "cell_type": "code",
   "execution_count": 8,
   "metadata": {},
   "outputs": [],
   "source": [
    "SEED = 42\n",
    "Rnd = snap.TRnd(SEED)\n",
    "Rnd.Randomize()\n",
    "random.seed(SEED)"
   ]
  },
  {
   "cell_type": "code",
   "execution_count": 9,
   "metadata": {},
   "outputs": [],
   "source": [
    "def Q3_1():\n",
    "    '''\n",
    "    Sets the global props31 and res31 variables.\n",
    "    '''\n",
    "    networks = loadNetworks()\n",
    "    global results31\n",
    "    results31 = runSimulations(networks,\n",
    "                               lambda G: set([G.GetRndNId(Rnd)]))\n",
    "    printResultStatistics(results31)    "
   ]
  },
  {
   "cell_type": "code",
   "execution_count": 10,
   "metadata": {},
   "outputs": [
    {
     "name": "stdout",
     "output_type": "stream",
     "text": [
      "\n",
      "Results for Actors Network:\n",
      "\n",
      "52 out of 100 (52.0%) simulations in Actors Network resulted in an epidemic.\n",
      "\n",
      "On average across all trials, 31.6914149172% of the population in Actors Network was infected.\n",
      "\n",
      "On average across epidemic trials, 60.8466702553% of the population in Actors Network was infected.\n",
      "\n",
      "\n",
      "Results for Preferential Attachment Network:\n",
      "\n",
      "81 out of 100 (81.0%) simulations in Preferential Attachment Network resulted in an epidemic.\n",
      "\n",
      "On average across all trials, 71.1530977983% of the population in Preferential Attachment Network was infected.\n",
      "\n",
      "On average across epidemic trials, 87.8418556236% of the population in Preferential Attachment Network was infected.\n",
      "\n",
      "\n",
      "Results for Erdos-Renyi Network:\n",
      "\n",
      "86 out of 100 (86.0%) simulations in Erdos-Renyi Network resulted in an epidemic.\n",
      "\n",
      "On average across all trials, 81.4895602207% of the population in Erdos-Renyi Network was infected.\n",
      "\n",
      "On average across epidemic trials, 94.7541779625% of the population in Erdos-Renyi Network was infected.\n",
      "\n",
      "Significance Tests:\n",
      "\n",
      "Actors vs Preferential Attachment: chi2 = 17.5962293794, p = 2.73129360125e-05.\n",
      "\n",
      "Actors vs Erdos-Renyi: chi2 = 25.4558204769, p = 4.52630014463e-07.\n",
      "\n",
      "Preferential Attachment vs Erdos-Renyi: chi2 = 0.580656868082, p = 0.446054964748.\n",
      "\n"
     ]
    }
   ],
   "source": [
    "Q3_1()"
   ]
  },
  {
   "cell_type": "code",
   "execution_count": 11,
   "metadata": {},
   "outputs": [],
   "source": [
    "def Q3_2():\n",
    "    '''\n",
    "    Sets the global props32 and res32 variables.\n",
    "    '''\n",
    "    networks = loadNetworks()\n",
    "    global results32\n",
    "    results32 = runSimulations(networks,\n",
    "                               lambda G: set([snap.GetMxDegNId(G)]))\n",
    "    printResultStatistics(results32, runSignificanceTest=False)\n",
    "    print(\"\\nRelative Increases:\")\n",
    "    for name in results32:\n",
    "        prevAvgInfected = np.mean(results31[name])\n",
    "        avgInfected = np.mean(results32[name])\n",
    "        relIncreases = (avgInfected - prevAvgInfected)/prevAvgInfected\n",
    "        print(\"The average proportion infected has increased by %s%% \"\n",
    "              \"from %s%% to %s%% for the %s Network.\\n\" %(\n",
    "                  100*relIncreases, 100*prevAvgInfected, 100*avgInfected,\n",
    "                  name))"
   ]
  },
  {
   "cell_type": "code",
   "execution_count": 12,
   "metadata": {},
   "outputs": [
    {
     "name": "stdout",
     "output_type": "stream",
     "text": [
      "\n",
      "Results for Actors Network:\n",
      "\n",
      "100 out of 100 (100.0%) simulations in Actors Network resulted in an epidemic.\n",
      "\n",
      "On average across all trials, 60.8550947261% of the population in Actors Network was infected.\n",
      "\n",
      "On average across epidemic trials, 60.8550947261% of the population in Actors Network was infected.\n",
      "\n",
      "\n",
      "Results for Preferential Attachment Network:\n",
      "\n",
      "100 out of 100 (100.0%) simulations in Preferential Attachment Network resulted in an epidemic.\n",
      "\n",
      "On average across all trials, 87.8422939068% of the population in Preferential Attachment Network was infected.\n",
      "\n",
      "On average across epidemic trials, 87.8422939068% of the population in Preferential Attachment Network was infected.\n",
      "\n",
      "\n",
      "Results for Erdos-Renyi Network:\n",
      "\n",
      "96 out of 100 (96.0%) simulations in Erdos-Renyi Network resulted in an epidemic.\n",
      "\n",
      "On average across all trials, 90.9503897138% of the population in Erdos-Renyi Network was infected.\n",
      "\n",
      "On average across epidemic trials, 94.739752233% of the population in Erdos-Renyi Network was infected.\n",
      "\n",
      "\n",
      "Relative Increases:\n",
      "The average proportion infected has increased by 92.0239121069% from 31.6914149172% to 60.8550947261% for the Actors Network.\n",
      "\n",
      "The average proportion infected has increased by 23.4553331126% from 71.1530977983% to 87.8422939068% for the Preferential Attachment Network.\n",
      "\n",
      "The average proportion infected has increased by 11.6098669173% from 81.4895602207% to 90.9503897138% for the Erdos-Renyi Network.\n",
      "\n"
     ]
    }
   ],
   "source": [
    "Q3_2()"
   ]
  },
  {
   "cell_type": "code",
   "execution_count": 13,
   "metadata": {},
   "outputs": [],
   "source": [
    "def getMaxNDegNodes(G, topN=10):\n",
    "    nodeDegrees = [(node.GetId(), node.GetDeg()) for node in G.Nodes()]\n",
    "    topNodeDegrees = sorted(nodeDegrees, key=lambda x: -1*x[1])[:topN]\n",
    "    res = set([ID for ID, _ in topNodeDegrees])\n",
    "    assert len(res) == topN\n",
    "    return res"
   ]
  },
  {
   "cell_type": "code",
   "execution_count": 14,
   "metadata": {},
   "outputs": [],
   "source": [
    "def getRandomNodes(G, Rnd, topN=10):\n",
    "    res = set([])\n",
    "    while len(res) < topN:\n",
    "        res.add(G.GetRndNId(Rnd))\n",
    "    assert len(res) == topN\n",
    "    return res"
   ]
  },
  {
   "cell_type": "code",
   "execution_count": 15,
   "metadata": {},
   "outputs": [],
   "source": [
    "def Q3_4():\n",
    "    networks = loadNetworks()\n",
    "    global results34_1, results34_2\n",
    "    results34_1 = runSimulations(networks,\n",
    "                                 lambda G: getRandomNodes(G, Rnd))\n",
    "    print(\"Results for 10 Random Nodes:\")\n",
    "    printResultStatistics(results34_1, runSignificanceTest=False)\n",
    "    \n",
    "    print(\"Results for 10 Highest Degree Nodes:\")\n",
    "    results34_2 = runSimulations(networks,\n",
    "                                 lambda G: getMaxNDegNodes(G))\n",
    "    printResultStatistics(results34_2, runSignificanceTest=False)"
   ]
  },
  {
   "cell_type": "code",
   "execution_count": 16,
   "metadata": {},
   "outputs": [
    {
     "name": "stdout",
     "output_type": "stream",
     "text": [
      "Results for 10 Random Nodes:\n",
      "\n",
      "Results for Actors Network:\n",
      "\n",
      "100 out of 100 (100.0%) simulations in Actors Network resulted in an epidemic.\n",
      "\n",
      "On average across all trials, 61.409512431% of the population in Actors Network was infected.\n",
      "\n",
      "On average across epidemic trials, 61.409512431% of the population in Actors Network was infected.\n",
      "\n",
      "\n",
      "Results for Preferential Attachment Network:\n",
      "\n",
      "100 out of 100 (100.0%) simulations in Preferential Attachment Network resulted in an epidemic.\n",
      "\n",
      "On average across all trials, 87.7810775445% of the population in Preferential Attachment Network was infected.\n",
      "\n",
      "On average across epidemic trials, 87.7810775445% of the population in Preferential Attachment Network was infected.\n",
      "\n",
      "\n",
      "Results for Erdos-Renyi Network:\n",
      "\n",
      "100 out of 100 (100.0%) simulations in Erdos-Renyi Network resulted in an epidemic.\n",
      "\n",
      "On average across all trials, 94.7439267224% of the population in Erdos-Renyi Network was infected.\n",
      "\n",
      "On average across epidemic trials, 94.7439267224% of the population in Erdos-Renyi Network was infected.\n",
      "\n",
      "Results for 10 Highest Degree Nodes:\n",
      "\n",
      "Results for Actors Network:\n",
      "\n",
      "100 out of 100 (100.0%) simulations in Actors Network resulted in an epidemic.\n",
      "\n",
      "On average across all trials, 60.9259828185% of the population in Actors Network was infected.\n",
      "\n",
      "On average across epidemic trials, 60.9259828185% of the population in Actors Network was infected.\n",
      "\n",
      "\n",
      "Results for Preferential Attachment Network:\n",
      "\n",
      "100 out of 100 (100.0%) simulations in Preferential Attachment Network resulted in an epidemic.\n",
      "\n",
      "On average across all trials, 87.8678955453% of the population in Preferential Attachment Network was infected.\n",
      "\n",
      "On average across epidemic trials, 87.8678955453% of the population in Preferential Attachment Network was infected.\n",
      "\n",
      "\n",
      "Results for Erdos-Renyi Network:\n",
      "\n",
      "100 out of 100 (100.0%) simulations in Erdos-Renyi Network resulted in an epidemic.\n",
      "\n",
      "On average across all trials, 94.7789725209% of the population in Erdos-Renyi Network was infected.\n",
      "\n",
      "On average across epidemic trials, 94.7789725209% of the population in Erdos-Renyi Network was infected.\n",
      "\n"
     ]
    }
   ],
   "source": [
    "Q3_4()"
   ]
  },
  {
   "cell_type": "code",
   "execution_count": null,
   "metadata": {},
   "outputs": [],
   "source": []
  }
 ],
 "metadata": {
  "kernelspec": {
   "display_name": "cs224w",
   "language": "python",
   "name": "cs224w"
  },
  "language_info": {
   "codemirror_mode": {
    "name": "ipython",
    "version": 2
   },
   "file_extension": ".py",
   "mimetype": "text/x-python",
   "name": "python",
   "nbconvert_exporter": "python",
   "pygments_lexer": "ipython2",
   "version": "2.7.10"
  }
 },
 "nbformat": 4,
 "nbformat_minor": 2
}
