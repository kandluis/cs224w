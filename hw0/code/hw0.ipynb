{
 "cells": [
  {
   "cell_type": "markdown",
   "metadata": {},
   "source": [
    "## 1. Analyzing the Wikipedia voters network [9 points]\n",
    "Download the Wikipedia voting network wiki-Vote.txt.gz: http://snap.stanford.edu/\n",
    "data/wiki-Vote.html.\n",
    "\n",
    "Using one of the network analysis tools above, load the Wikipedia voting network. \n",
    "\n",
    "Note that Wikipedia is a directed network. Formally, we consider the Wikipedia network as a directed graph $G = (V, E)$, with node set $V$ and edge set $E ⊂ V × V$ where (edges are ordered pairs of nodes). An edge $(a, b) ∈ E$ means that user $a$ voted on user $b$.\n",
    "\n",
    "To make our questions clearer, we will use the following small graph as a running example:\n",
    "$$\n",
    "Gsmall = (Vsmall, Esmall)\n",
    "$$\n",
    "where \n",
    "$$\n",
    "Vsmall = \\{1, 2, 3\\}\n",
    "$$ and\n",
    "$$\n",
    "Esmall = \\{(1, 2),(2, 1),(1, 3),(1, 1)\\}\n",
    "$$"
   ]
  },
  {
   "cell_type": "code",
   "execution_count": 56,
   "metadata": {},
   "outputs": [],
   "source": [
    "import snap"
   ]
  },
  {
   "cell_type": "code",
   "execution_count": 57,
   "metadata": {},
   "outputs": [],
   "source": [
    "# Load the network\n",
    "SOURCE_FILE = './data/wiki-Vote.txt'\n",
    "wikiGraph = snap.LoadEdgeList(snap.PNGraph, SOURCE_FILE, 0, 1)\n",
    "assert 103689 == wikiGraph.GetEdges()\n",
    "assert 7115 == wikiGraph.GetNodes()"
   ]
  },
  {
   "cell_type": "code",
   "execution_count": 58,
   "metadata": {},
   "outputs": [
    {
     "name": "stdout",
     "output_type": "stream",
     "text": [
      "The number of nodes in the network is 7115.\n"
     ]
    }
   ],
   "source": [
    "# 1.1\n",
    "print(\"The number of nodes in the network is %s.\" % (\n",
    "    wikiGraph.GetNodes()))"
   ]
  },
  {
   "cell_type": "code",
   "execution_count": 59,
   "metadata": {},
   "outputs": [
    {
     "name": "stdout",
     "output_type": "stream",
     "text": [
      "The number of nodes with a self-edge is 0.\n"
     ]
    }
   ],
   "source": [
    "# 1.2\n",
    "print(\"The number of nodes with a self-edge is %s.\" % (\n",
    "    snap.CntSelfEdges(wikiGraph)))"
   ]
  },
  {
   "cell_type": "code",
   "execution_count": 60,
   "metadata": {},
   "outputs": [
    {
     "name": "stdout",
     "output_type": "stream",
     "text": [
      "The number of directed edges 103689.\n"
     ]
    }
   ],
   "source": [
    "# 1.3\n",
    "print(\"The number of directed edges %s.\" % (\n",
    "    snap.CntUniqDirEdges(wikiGraph)))"
   ]
  },
  {
   "cell_type": "code",
   "execution_count": 61,
   "metadata": {},
   "outputs": [
    {
     "name": "stdout",
     "output_type": "stream",
     "text": [
      "The number of undirected edges is 100762.\n"
     ]
    }
   ],
   "source": [
    "# 1.4\n",
    "print(\"The number of undirected edges is %s.\" % (\n",
    "    snap.CntUniqUndirEdges(wikiGraph)))"
   ]
  },
  {
   "cell_type": "code",
   "execution_count": 62,
   "metadata": {},
   "outputs": [
    {
     "name": "stdout",
     "output_type": "stream",
     "text": [
      "The number of reciprocated edges is 2927.\n"
     ]
    }
   ],
   "source": [
    "# 1.5\n",
    "print(\"The number of reciprocated edges is %s.\" % (\n",
    "    snap.CntUniqDirEdges(wikiGraph) - snap.CntUniqUndirEdges(wikiGraph)))"
   ]
  },
  {
   "cell_type": "code",
   "execution_count": 63,
   "metadata": {},
   "outputs": [
    {
     "name": "stdout",
     "output_type": "stream",
     "text": [
      "The number of nodes of zero out-degree is 1005.\n"
     ]
    }
   ],
   "source": [
    "# 1.6\n",
    "print(\"The number of nodes of zero out-degree is %s.\" % (\n",
    "    snap.CntOutDegNodes(wikiGraph, 0)))"
   ]
  },
  {
   "cell_type": "code",
   "execution_count": 64,
   "metadata": {},
   "outputs": [
    {
     "name": "stdout",
     "output_type": "stream",
     "text": [
      "The number of nodes of zero in-degree is 4734.\n"
     ]
    }
   ],
   "source": [
    "# 1.7\n",
    "print(\"The number of nodes of zero in-degree is %s.\" % (\n",
    "    snap.CntInDegNodes(wikiGraph, 0)))"
   ]
  },
  {
   "cell_type": "code",
   "execution_count": 65,
   "metadata": {},
   "outputs": [
    {
     "name": "stdout",
     "output_type": "stream",
     "text": [
      "The number of nodes with more than 10 outgoing edges is 1612.\n"
     ]
    }
   ],
   "source": [
    "# 1.8 \n",
    "DEGREE_BOUNDARY = 10\n",
    "outDegreeToCount = snap.TIntPrV()\n",
    "snap.GetOutDegCnt(wikiGraph, outDegreeToCount)\n",
    "numNodesLargeOutDegree = sum([item.GetVal2()\n",
    "                              for item in outDegreeToCount\n",
    "                              if item.GetVal1() > DEGREE_BOUNDARY])\n",
    "print(\"The number of nodes with more than %s outgoing edges is %s.\" % (\n",
    "    DEGREE_BOUNDARY, numNodesLargeOutDegree))"
   ]
  },
  {
   "cell_type": "code",
   "execution_count": 66,
   "metadata": {},
   "outputs": [
    {
     "name": "stdout",
     "output_type": "stream",
     "text": [
      "The number of nodes with less than 10 incoming edges is 5424.\n"
     ]
    }
   ],
   "source": [
    "# 1.9\n",
    "inDegreeCount = snap.TIntPrV()\n",
    "snap.GetOutDegCnt(wikiGraph, inDegreeCount)\n",
    "numNodesSmallInDegree = sum([item.GetVal2()\n",
    "                             for item in inDegreeCount\n",
    "                             if item.GetVal1() < DEGREE_BOUNDARY])\n",
    "print(\"The number of nodes with less than %s incoming edges is %s.\" % (\n",
    "    DEGREE_BOUNDARY, numNodesSmallInDegree))"
   ]
  },
  {
   "cell_type": "markdown",
   "metadata": {},
   "source": [
    "## 2 Further Analyzing the Wikiepedia voters network"
   ]
  },
  {
   "cell_type": "code",
   "execution_count": 67,
   "metadata": {},
   "outputs": [],
   "source": [
    "import snap\n",
    "import pandas as pd\n",
    "import matplotlib as mpl\n",
    "import numpy as np\n",
    "import matplotlib.pyplot as plt"
   ]
  },
  {
   "cell_type": "code",
   "execution_count": 68,
   "metadata": {},
   "outputs": [
    {
     "data": {
      "image/png": "[encoded data removed]",
      "text/plain": [
       "<matplotlib.figure.Figure at 0x11470de10>"
      ]
     },
     "metadata": {},
     "output_type": "display_data"
    }
   ],
   "source": [
    "# 2.1: Histogram of out-degree distribution.\n",
    "## Calculate degree and construct data frame.\n",
    "outDegreeToCount = snap.TIntPrV()\n",
    "snap.GetOutDegCnt(wikiGraph, outDegreeToCount)\n",
    "data = pd.DataFrame([[item.GetVal1(), item.GetVal2()]\n",
    "                     for item in outDegreeToCount\n",
    "                     if item.GetVal1() > 0 and item.GetVal2() > 0])\n",
    "data.columns = ['degree', 'count']\n",
    "\n",
    "## Plot.\n",
    "% matplotlib inline\n",
    "fig = plt.plot(data['degree'], data['count'], 'bo--', markersize=2)[0]\n",
    "fig.axes.set_xscale('log')\n",
    "fig.axes.set_yscale('log')\n",
    "fig.axes.set_xlim(data['degree'].min(), data['degree'].max())\n",
    "fig.axes.set_ylim(data['count'].min(), data['count'].max())\n",
    "fig.axes.set_title(\"Log-Log Degree Distribution Plot for WikiGraph\")\n",
    "fig.axes.set_xlabel(\"Node Degree\")\n",
    "fig.axes.set_ylabel(\"Node Count\")\n",
    "\n",
    "## Save image.\n",
    "plt.savefig(\"WikiGraphOutDegreeDistribution\", format='svg', dpi=600)\n",
    "plt.savefig(\"WikiGraphOutDegreeDistribution\", dpi=600)"
   ]
  },
  {
   "cell_type": "code",
   "execution_count": 69,
   "metadata": {},
   "outputs": [],
   "source": [
    "# Alternative 2.1.\n",
    "snap.PlotOutDegDistr(wikiGraph, \"WikiGraph\",\n",
    "                     \"WikiGraph - Out Degree Distribution\")"
   ]
  },
  {
   "cell_type": "code",
   "execution_count": 70,
   "metadata": {},
   "outputs": [
    {
     "data": {
      "image/png": "[encoded data removed]",
      "text/plain": [
       "<matplotlib.figure.Figure at 0x1177e6610>"
      ]
     },
     "metadata": {},
     "output_type": "display_data"
    }
   ],
   "source": [
    "# 2.2: Compute and plot the least-square regression line.\n",
    "## Calculate the best fit line on the log data.\n",
    "DEGREE = 1\n",
    "slope, intercept = np.polyfit(\n",
    "    np.log10(data['degree']),np.log10(data['count']), DEGREE)\n",
    "predict = lambda x: 10**(intercept)*x**slope\n",
    "\n",
    "## Plot.\n",
    "% matplotlib inline\n",
    "fig = plt.plot(data['degree'], data['count'], 'bo--',\n",
    "               data['degree'], predict(data['degree']), 'g',\n",
    "               markersize=2)[0]\n",
    "fig.axes.set_xscale('log')\n",
    "fig.axes.set_yscale('log')\n",
    "fig.axes.set_xlim(data['degree'].min(), data['degree'].max())\n",
    "fig.axes.set_ylim(data['count'].min(), data['count'].max())\n",
    "fig.axes.set_title(\"Log-Log Degree Distribution Plot And Fit for WikiGraph\")\n",
    "fig.axes.set_xlabel(\"Node Degree\")\n",
    "fig.axes.set_ylabel(\"Node Count\")\n",
    "\n",
    "## Save image.\n",
    "plt.savefig(\"WikiGraphOutDegreeDistributionFit\", format='svg', dpi=600)\n",
    "plt.savefig(\"WikiGraphOutDegreeDistributionFit\", dpi=600)"
   ]
  },
  {
   "cell_type": "code",
   "execution_count": 71,
   "metadata": {},
   "outputs": [
    {
     "name": "stdout",
     "output_type": "stream",
     "text": [
      "The best fit line is given by equation log(y) = -1.28106470567 * log(x) + 3.1324547045\n"
     ]
    }
   ],
   "source": [
    "## Print the results.\n",
    "print(\"The best fit line is given by equation \"\n",
    "      \"log(y) = %s * log(x) + %s\" % (slope, intercept))"
   ]
  },
  {
   "cell_type": "code",
   "execution_count": 72,
   "metadata": {},
   "outputs": [
    {
     "name": "stdout",
     "output_type": "stream",
     "text": [
      "The best fit line is given by equation log(y) = -1.411 * log(x) + 3.3583 with R^2=0.91\n"
     ]
    }
   ],
   "source": [
    "# Alternative 2.1.\n",
    "snap.PlotOutDegDistr(wikiGraph, \"WikiGraphFit\",\n",
    "                     \"WikiGraph - Out Degree Distribution with Fit\",\n",
    "                     False, True)\n",
    "print(\"The best fit line is given by equation \"\n",
    "      \"log(y) = -1.411 * log(x) + 3.3583 with R^2=0.91\")"
   ]
  },
  {
   "cell_type": "markdown",
   "metadata": {},
   "source": [
    "## 3 Finding Experts on the Java Programming Language on StackOverflow [4 points]\n",
    "\n",
    "Download the StackOverflow network stackoverflow-Java.txt.gz: http://snap.stanford.edu/class/cs224w-data/hw0/stackoverflow-Java.txt.gz. \n",
    "\n",
    "An edge (a, b) in the network means that person a endorsed an answer from person b on a Java-related question."
   ]
  },
  {
   "cell_type": "code",
   "execution_count": 73,
   "metadata": {},
   "outputs": [],
   "source": [
    "import snap"
   ]
  },
  {
   "cell_type": "code",
   "execution_count": 74,
   "metadata": {},
   "outputs": [],
   "source": [
    "# Load the network\n",
    "SOURCE_FILE = './data/stackoverflow-Java.txt'\n",
    "SOGraph = snap.LoadEdgeList(snap.PNGraph, SOURCE_FILE, 0, 1)\n",
    "assert 146874 == SOGraph.GetNodes()\n",
    "assert 333606 == SOGraph.GetEdges()"
   ]
  },
  {
   "cell_type": "code",
   "execution_count": 75,
   "metadata": {},
   "outputs": [
    {
     "name": "stdout",
     "output_type": "stream",
     "text": [
      "The number of weakly connected components in the SO networkis 10143.\n"
     ]
    }
   ],
   "source": [
    "# 3.1\n",
    "components = snap.TCnComV()\n",
    "snap.GetWccs(SOGraph, components)\n",
    "\n",
    "print(\"The number of weakly connected components in the SO network\"\n",
    "      \"is %s.\" % (len(components)))"
   ]
  },
  {
   "cell_type": "code",
   "execution_count": 76,
   "metadata": {},
   "outputs": [
    {
     "name": "stdout",
     "output_type": "stream",
     "text": [
      "The largest weakly connected component in the SO networkhas 131188 nodes and 322486 edges.\n"
     ]
    }
   ],
   "source": [
    "# 3.2\n",
    "maxWeaklyConnectedComponent = snap.GetMxWcc(SOGraph)\n",
    "print(\"The largest weakly connected component in the SO network\"\n",
    "     \"has %s nodes and %s edges.\" % (\n",
    "         maxWeaklyConnectedComponent.GetNodes(),\n",
    "         maxWeaklyConnectedComponent.GetEdges()))"
   ]
  },
  {
   "cell_type": "code",
   "execution_count": 77,
   "metadata": {},
   "outputs": [],
   "source": [
    "def sortTIntFltH(mapping, desc = True):\n",
    "    return sorted([(nodeId, mapping[nodeId])\n",
    "                   for nodeId in mapping\n",
    "                  ], reverse=desc,\n",
    "                  key = lambda x: x[1])"
   ]
  },
  {
   "cell_type": "code",
   "execution_count": 78,
   "metadata": {},
   "outputs": [
    {
     "name": "stdout",
     "output_type": "stream",
     "text": [
      "The node IDs of the top 3 most central nodes in the network by PageRank scores are (992484, 135152, 22656) with scores (0.013980540412209575, 0.010005538895741885, 0.007103532693128619) respectively.\n"
     ]
    }
   ],
   "source": [
    "# 3.3\n",
    "TOPN = 3\n",
    "SOPageRanks = snap.TIntFltH()\n",
    "snap.GetPageRank(SOGraph, SOPageRanks, 0.85, 1e-4, 1000)\n",
    "sortedSOPageRanks = sortTIntFltH(SOPageRanks)\n",
    "print(\"The node IDs of the top %s most central nodes in the network \"\n",
    "      \"by PageRank scores are %s with scores %s respectively.\" % (\n",
    "          TOPN,\n",
    "          tuple(t[0] for t in sortedSOPageRanks[:TOPN]),\n",
    "          tuple(t[1] for t in sortedSOPageRanks[:TOPN])))"
   ]
  },
  {
   "cell_type": "code",
   "execution_count": 79,
   "metadata": {},
   "outputs": [
    {
     "name": "stdout",
     "output_type": "stream",
     "text": [
      "The node IDs of the top 3 hubs in the network by HITS scores are (892029, 1194415, 359862) with scores (0.07336377271443813, 0.05955072063221353, 0.05687562555041567) respectively.\n",
      "\n",
      "The node IDs of the top 3 authorities in the network by HITS scores are (22656, 157882, 571407) with score (0.604724804154674, 0.2986988928290645, 0.28390684916352593) respectively.\n"
     ]
    }
   ],
   "source": [
    "# 3.4\n",
    "TOPN = 3\n",
    "hubsScores = snap.TIntFltH()\n",
    "authScores = snap.TIntFltH()\n",
    "snap.GetHits(SOGraph, hubsScores, authScores, 100)\n",
    "sortedHubScores = sortTIntFltH(hubsScores)\n",
    "sortedAuthScores = sortTIntFltH(authScores)\n",
    "print(\"The node IDs of the top %s hubs in the network by HITS scores \"\n",
    "      \"are %s with scores %s respectively.\" % (\n",
    "          TOPN,\n",
    "          tuple(t[0] for t in sortedHubScores[:TOPN]),\n",
    "          tuple(t[1] for t in sortedHubScores[:TOPN])))\n",
    "print\n",
    "print(\"The node IDs of the top %s authorities in the network by HITS \"\n",
    "      \"scores are %s with score %s respectively.\" % (\n",
    "          TOPN,\n",
    "          tuple(t[0] for t in sortedAuthScores[:TOPN]),\n",
    "          tuple(t[1] for t in sortedAuthScores[:TOPN])))"
   ]
  }
 ],
 "metadata": {
  "kernelspec": {
   "display_name": "cs224w",
   "language": "python",
   "name": "cs224w"
  },
  "language_info": {
   "codemirror_mode": {
    "name": "ipython",
    "version": 2
   },
   "file_extension": ".py",
   "mimetype": "text/x-python",
   "name": "python",
   "nbconvert_exporter": "python",
   "pygments_lexer": "ipython2",
   "version": "2.7.10"
  }
 },
 "nbformat": 4,
 "nbformat_minor": 2
}
