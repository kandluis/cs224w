{
 "cells": [
  {
   "cell_type": "code",
   "execution_count": 209,
   "metadata": {},
   "outputs": [],
   "source": [
    "import os\n",
    "\n",
    "import snap\n",
    "import numpy as np\n",
    "import matplotlib.pyplot as plt\n",
    "import pandas as pd"
   ]
  },
  {
   "cell_type": "code",
   "execution_count": 210,
   "metadata": {},
   "outputs": [],
   "source": [
    "def readLabels():\n",
    "    filename = \"data/polblogs-labels.txt\"\n",
    "    with open(filename) as data:\n",
    "        return np.array(map(lambda x: int(x) if int(x) == 1 else -1, list(data)))"
   ]
  },
  {
   "cell_type": "code",
   "execution_count": 211,
   "metadata": {},
   "outputs": [],
   "source": [
    "def readAdjacencyGraph(labels):\n",
    "    filename = \"data/polblogs.txt\"\n",
    "    N = len(labels)\n",
    "    matrix = np.zeros((N,N))\n",
    "    with open(filename) as data:\n",
    "        for line in data:\n",
    "            ixs = map(int, line.strip().split(\" \"))\n",
    "            assert len(ixs) == 2\n",
    "            i,j = ixs[0], ixs[1]\n",
    "            matrix[i][j] = 1\n",
    "            matrix[j][i] = 1\n",
    "    return matrix "
   ]
  },
  {
   "cell_type": "code",
   "execution_count": 212,
   "metadata": {},
   "outputs": [],
   "source": [
    "def minimizationAlgorithm(A):\n",
    "    D = np.diag(np.sum(A, axis=0))\n",
    "    invD = np.diag(np.sum(A, axis=0)**-1)\n",
    "    L = D - A\n",
    "    normL = np.dot(np.sqrt(invD), np.dot(L, np.sqrt(invD)))\n",
    "    w, V = np.linalg.eigh(normL)\n",
    "    assert abs(w[0]- 0) < 1e-9\n",
    "    assert w[1] > 0\n",
    "    v = V[:, 1]\n",
    "    v.shape = (len(v), 1)\n",
    "    x = np.sqrt(np.sum(A)) * np.dot(np.sqrt(invD), v)\n",
    "    assert abs(np.dot(x.T, np.dot(D, x)) - np.sum(A)) < 1e-7\n",
    "    e = np.ones(len(D))\n",
    "    e.shape = (len(e), 1)\n",
    "    assert abs(np.dot(x.T, np.dot(D, e))) < 1e-8\n",
    "    assignments = np.sign(x)\n",
    "    assert sum(assignments == 0) == 0\n",
    "    return assignments"
   ]
  },
  {
   "cell_type": "code",
   "execution_count": 213,
   "metadata": {},
   "outputs": [],
   "source": [
    "def maximAlgorithm(A):\n",
    "    d = np.sum(A, axis=0)\n",
    "    d.shape = (len(d), 1)\n",
    "    B = A - 1.0 / np.sum(A) * np.dot(d, d.T)\n",
    "    \n",
    "    w, V = np.linalg.eigh(B)\n",
    "    v = V[:, -1]\n",
    "    v.shape = (len(v), 1)\n",
    "    y = np.sqrt(len(A)) * v\n",
    "    assert abs(np.dot(y.T,y) - len(A)) < 1e-7\n",
    "    assignments = np.sign(y)\n",
    "    assert sum(assignments == 0) == 0\n",
    "    return assignments"
   ]
  },
  {
   "cell_type": "code",
   "execution_count": 214,
   "metadata": {},
   "outputs": [],
   "source": [
    "def Q4_4():\n",
    "    G = snap.LoadEdgeList(\n",
    "      snap.PUNGraph, \"data/polblogs.txt\", 0, 1, ' ')\n",
    "    labels = readLabels()\n",
    "    # We verify the nodes match as expected.\n",
    "    assert sorted([n.GetId() for n in G.Nodes()]) == range(len(labels))\n",
    "    \n",
    "    network = readAdjacencyGraph(labels)\n",
    "    \n",
    "    assignments1 = minimizationAlgorithm(network).flatten()\n",
    "    assignments2 = maximAlgorithm(network).flatten()\n",
    "    \n",
    "    print \"Minimization gives #nodes in S as %s and nodes in \\bar{S} as %s.\" % (\n",
    "        sum(assignments1 == 1), sum(assignments1 == -1))\n",
    "    print \"Maximization gives #nodes in S as %s and nodes in \\bar{S} as %s.\" % (\n",
    "        sum(assignments2 == 1), sum(assignments2 == -1))\n",
    "    \n",
    "    print \"The accuracy of the first assignment is %s.\" % (\n",
    "        sum(assignments1 == labels) / float(len(labels)))\n",
    "    print \"The accuracy of the first assignment is %s.\" % (\n",
    "        sum(assignments2 == -1*labels) / float(len(labels)))\n",
    "    "
   ]
  },
  {
   "cell_type": "code",
   "execution_count": 215,
   "metadata": {},
   "outputs": [
    {
     "name": "stdout",
     "output_type": "stream",
     "text": [
      "Minimization gives #nodes in S as 650 and nodes in \bar{S} as 568.\n",
      "Maximization gives #nodes in S as 545 and nodes in \bar{S} as 673.\n",
      "The accuracy of the first assignment is 0.825123152709.\n",
      "The accuracy of the first assignment is 0.807881773399.\n"
     ]
    }
   ],
   "source": [
    "Q4_4()"
   ]
  },
  {
   "cell_type": "code",
   "execution_count": null,
   "metadata": {},
   "outputs": [],
   "source": []
  }
 ],
 "metadata": {
  "kernelspec": {
   "display_name": "cs224w",
   "language": "python",
   "name": "cs224w"
  },
  "language_info": {
   "codemirror_mode": {
    "name": "ipython",
    "version": 2
   },
   "file_extension": ".py",
   "mimetype": "text/x-python",
   "name": "python",
   "nbconvert_exporter": "python",
   "pygments_lexer": "ipython2",
   "version": "2.7.10"
  }
 },
 "nbformat": 4,
 "nbformat_minor": 2
}
