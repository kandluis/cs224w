{
 "cells": [
  {
   "cell_type": "code",
   "execution_count": 87,
   "metadata": {},
   "outputs": [],
   "source": [
    "import os\n",
    "\n",
    "import snap\n",
    "import numpy as np\n",
    "import matplotlib.pyplot as plt"
   ]
  },
  {
   "cell_type": "code",
   "execution_count": 20,
   "metadata": {},
   "outputs": [],
   "source": [
    "from collections import defaultdict, deque"
   ]
  },
  {
   "cell_type": "code",
   "execution_count": 3,
   "metadata": {},
   "outputs": [],
   "source": [
    "NUM_NODES = 1000\n",
    "OUT_DEGREE = 4\n",
    "Rnd = snap.TRnd(42)"
   ]
  },
  {
   "cell_type": "code",
   "execution_count": 41,
   "metadata": {},
   "outputs": [],
   "source": [
    "def getSingleDeltaValue(G, s):\n",
    "    # Traverse the bfs graph from start node.\n",
    "    tree = snap.GetBfsTree(G, s, True, False)\n",
    "    queue = deque([s])\n",
    "\n",
    "    # dictionary from v: bool specifiying if the node has already\n",
    "    # been popped from the queue before\n",
    "    visited = {}\n",
    "    # maps from node id to distance from s\n",
    "    distance = {s: 0}\n",
    "\n",
    "    # dictionary from v: P_s(v) which is a list of node ids that\n",
    "    # precede v in the bfs starting at s.\n",
    "    parents = {}\n",
    "    # same as above but list of node ids that follow v  in the bfs starting at s\n",
    "    descendents = {}\n",
    "\n",
    "    # maps v: \\sigma_{sv} -- the # of shortest paths from s to v.\n",
    "    sigmas = {s: 1}\n",
    "\n",
    "    # All leaf nodeIDs in the bfs tree (ie, have now out edges)\n",
    "    leafs = []\n",
    "    while len(queue) != 0:\n",
    "        nodeID = queue.popleft()\n",
    "        if nodeID in visited:\n",
    "            continue\n",
    "        node = tree.GetNI(nodeID)\n",
    "\n",
    "        # Add outgoing edge to queue.\n",
    "        neighbors = [node.GetOutNId(i) for i in xrange(node.GetOutDeg())]\n",
    "        for neighbor in neighbors:\n",
    "            queue.append(neighbor)\n",
    "            if neighbor not in distance:\n",
    "                distance[neighbor] = 1 + distance[nodeID]\n",
    "            else:\n",
    "                assert distance[neighbor] == 1 + distance[nodeID]\n",
    "\n",
    "        # We're a leaf if no out edges\n",
    "        if len(neighbors) == 0:\n",
    "            leafs.append(nodeID)\n",
    "\n",
    "        # Store parents and descendents for efficiency.\n",
    "        descendents[nodeID] = neighbors\n",
    "        parents[nodeID] = [node.GetInNId(i)\n",
    "                                 for i in xrange(node.GetInDeg())]\n",
    "        if nodeID != s:\n",
    "            assert nodeID not in sigmas\n",
    "            sigmas[nodeID] = 0\n",
    "            for parent in parents[node.GetId()]:\n",
    "                sigmas[node.GetId()] += sigmas[parent]\n",
    "\n",
    "        # Mark node as explored.\n",
    "        visited[nodeID] = True\n",
    "\n",
    "    # Traverse in order of furthest node (which is always a leave)\n",
    "    assert len(leafs) > 0\n",
    "    visited = {}\n",
    "    # maps {(v,w): delta_s({v,w})} as defined in Algorithm 1.\n",
    "    deltas = {}\n",
    "    leafDict = {leaf: True for leaf in leafs}\n",
    "    sortedDistance = sorted(distance.items(), key=lambda x: -x[1])\n",
    "    for w, _ in sortedDistance:\n",
    "        node = tree.GetNI(w)\n",
    "        for v in parents[w]:\n",
    "            # A leave, so calculate base case for incoming edges from above bfs.\n",
    "            if w in leafDict:\n",
    "                deltas[(v, w)] = float(sigmas[v]) / float(sigmas[w])\n",
    "                deltas[(w, v)] = deltas[(v, w)]\n",
    "            # non-leave w.\n",
    "            else:\n",
    "                total = 1\n",
    "                for x in descendents[w]:\n",
    "                    total += deltas[(w,x)]\n",
    "                deltas[(v,w)] = float(sigmas[v]) / float(sigmas[w]) * total\n",
    "                deltas[(w,v)] = deltas[(v,w)]\n",
    "    return deltas"
   ]
  },
  {
   "cell_type": "code",
   "execution_count": 42,
   "metadata": {},
   "outputs": [],
   "source": [
    "def getDeltaValues(G):\n",
    "    '''\n",
    "    Calculates the \\delta values for all nodes in G as defined in Algorithm 1.\n",
    "    \n",
    "    returns: dictionary of dictionaries mappings {s: {(v, w): \\delta_s({v,w})}}\n",
    "    '''\n",
    "    delta = {}\n",
    "    for snode in G.Nodes():\n",
    "        s = snode.GetId()\n",
    "        delta[s] = getSingleDeltaValue(G, s)        \n",
    "    return delta  "
   ]
  },
  {
   "cell_type": "code",
   "execution_count": 46,
   "metadata": {},
   "outputs": [],
   "source": [
    "def ExactEdgeCentrality(G, includeDuplicates=False):\n",
    "    '''\n",
    "    Calculates the exact node centrality of G accoring to Algorithm 1. Returns\n",
    "    a hash table of all edges in G and their respective centralities.\n",
    "    \n",
    "    param: snap.PUNGraph, the graph\n",
    "    returns: {(v,w}: float}, exact betweenness centrality of G for all edges in G.\n",
    "    '''\n",
    "    delta = getDeltaValues(G)\n",
    "    centrality = {}\n",
    "    for edge in G.Edges():\n",
    "        v,w = edge.GetId()\n",
    "        centrality[(v,w)] = 0\n",
    "        for node in G.Nodes():\n",
    "            s = node.GetId()\n",
    "            assert s in delta\n",
    "            centrality[(v,w)] += (delta[s][(v,w)] if (v,w) in delta[s] else 0)\n",
    "        if includeDuplicates:\n",
    "            centrality[(w,v)] = centrality[(v,w)]\n",
    "    return centrality"
   ]
  },
  {
   "cell_type": "code",
   "execution_count": 47,
   "metadata": {},
   "outputs": [],
   "source": [
    "def testExactEdgeCentrality():\n",
    "    testG = snap.GenPrefAttach(NUM_NODES, OUT_DEGREE, Rnd)\n",
    "    centrality = ExactEdgeCentrality(testG)\n",
    "    unusedNodes = snap.TIntFltH()\n",
    "    expectedCentrality = snap.TIntPrFltH()\n",
    "    snap.GetBetweennessCentr(testG, unusedNodes, expectedCentrality, 1.0)\n",
    "\n",
    "    for key in expectedCentrality:\n",
    "        (v,w) = key.GetVal1(), key.GetVal2()\n",
    "        expected = expectedCentrality[key]\n",
    "        if abs(centrality[(v,w)] - expected) >= 1e-8:\n",
    "            print centrality[(v,w)], expected\n",
    "        assert abs(centrality[(v,w)] - expected) < 1e-8"
   ]
  },
  {
   "cell_type": "code",
   "execution_count": 75,
   "metadata": {},
   "outputs": [
    {
     "name": "stdout",
     "output_type": "stream",
     "text": [
      "1 loop, best of 3: 22.3 s per loop\n"
     ]
    }
   ],
   "source": [
    "%%timeit\n",
    "testExactEdgeCentrality()"
   ]
  },
  {
   "cell_type": "code",
   "execution_count": 76,
   "metadata": {},
   "outputs": [],
   "source": [
    "def ApproxEdgeCentrality(G, maxSamples, maxEdgeDelta, includeDuplicates=False):\n",
    "    '''\n",
    "    Calculates the approximate edge centrality for all edges in the graph G.\n",
    "    \n",
    "    Samples at most maxSample nodes and updates edges only as long as edgeDelta <= maxEdgeDelta.\n",
    "    \n",
    "    See homework for details.\n",
    "    \n",
    "    Returns the same type as ExactEdgeCentrality.\n",
    "    '''\n",
    "    for _ in xrange(maxSamples):\n",
    "        v = G.GetRndNId(Rnd)\n",
    "        edgeDelta = defaultdict(int)\n",
    "        edgeSampleCount = defaultdict(int)\n",
    "        for edge, deltav in getSingleDeltaValue(G, v).iteritems():\n",
    "            if edgeDelta[edge] <= maxEdgeDelta:\n",
    "                edgeDelta[edge] += deltav\n",
    "                edgeSampleCount[edge] += 1\n",
    "    centrality = {}\n",
    "    for edge in G.Edges():\n",
    "        v,w = edge.GetId()\n",
    "        if (v,w) in edgeSampleCount:\n",
    "            centrality[(v,w)] = G.GetNodes() / float(edgeSampleCount[(v,w)]) * edgeDelta[(v,w)]\n",
    "        else:\n",
    "            centrality[(v,w)] = 0\n",
    "        if includeDuplicates:\n",
    "            centrality[(w,v)] = centrality[(v,w)]\n",
    "    return centrality"
   ]
  },
  {
   "cell_type": "code",
   "execution_count": 77,
   "metadata": {},
   "outputs": [],
   "source": [
    "def testApproxEdgeCentrality():\n",
    "    testG = snap.GenPrefAttach(NUM_NODES, OUT_DEGREE, Rnd)\n",
    "    centrality = ApproxEdgeCentrality(testG, testG.GetNodes() / 10, 5 * testG.GetNodes())\n",
    "    unusedNodes = snap.TIntFltH()\n",
    "    expectedCentrality = snap.TIntPrFltH()\n",
    "    snap.GetBetweennessCentr(testG, unusedNodes, expectedCentrality, 1.0)\n",
    "\n",
    "    errorSum = 0.0\n",
    "    for key in expectedCentrality:\n",
    "        (v,w) = key.GetVal1(), key.GetVal2()\n",
    "        expected = expectedCentrality[key]\n",
    "        errorSum += (centrality[(v,w)] - expected)**2\n",
    "        \n",
    "    print errorSum\n",
    "    print np.sqrt(errorSum / len(expectedCentrality))"
   ]
  },
  {
   "cell_type": "code",
   "execution_count": 78,
   "metadata": {},
   "outputs": [
    {
     "name": "stdout",
     "output_type": "stream",
     "text": [
      "1.9474889235e+11\n",
      "6986.36144233\n",
      "2.7792187214e+11\n",
      "8345.93341372\n",
      "4.60884310018e+11\n",
      "10747.5509831\n",
      "1.84403400604e+11\n",
      "6798.26383195\n",
      "1 loop, best of 3: 2.36 s per loop\n"
     ]
    }
   ],
   "source": [
    "%%timeit\n",
    "testApproxEdgeCentrality()"
   ]
  },
  {
   "cell_type": "code",
   "execution_count": 92,
   "metadata": {},
   "outputs": [],
   "source": [
    "def Q2():\n",
    "    prefAttachmentGraph = snap.GenPrefAttach(NUM_NODES, OUT_DEGREE, Rnd)\n",
    "    N = prefAttachmentGraph.GetNodes()\n",
    "    global exactEdgeCentrality, approxEdgeCentrality\n",
    "    exactEdgeCentrality = ExactEdgeCentrality(prefAttachmentGraph)\n",
    "    approxEdgeCentrality = ApproxEdgeCentrality(testG, N / 10, 5 * N)\n",
    "    assert len(exactEdgeCentrality) == len(exactEdgeCentrality)\n",
    "    \n",
    "    Y1 = sorted(exactEdgeCentrality.values(), reverse=True)\n",
    "    Y2 = sorted(approxEdgeCentrality.values(), reverse=True)\n",
    "    X = range(len(Y1))\n",
    "    \n",
    "    plt.close()\n",
    "    plt.title(\"Exact and Approximate Betweeness Centrality Ordering\")\n",
    "    plt.xlabel(\"x-th largest edge\")\n",
    "    plt.ylabel(\"Calculated betweeness centrality\")\n",
    "    plt.semilogy(X, Y1)\n",
    "    plt.semilogy(X, Y2)\n",
    "    plt.legend([\"Exact Algorithm\", \"Approximate Algorithm\"])\n",
    "    if not os.path.exists(\"output\"):\n",
    "        os.mkdir(\"output\")\n",
    "    plt.savefig(\"output/2\", dpi=500)\n",
    "    plt.show()"
   ]
  },
  {
   "cell_type": "code",
   "execution_count": 93,
   "metadata": {},
   "outputs": [
    {
     "data": {
      "image/png": "[encoded data removed]",
      "text/plain": [
       "<matplotlib.figure.Figure at 0x105a6a290>"
      ]
     },
     "metadata": {},
     "output_type": "display_data"
    }
   ],
   "source": [
    "Q2()"
   ]
  },
  {
   "cell_type": "code",
   "execution_count": 94,
   "metadata": {},
   "outputs": [],
   "source": [
    "testG = snap.GenPrefAttach(NUM_NODES, OUT_DEGREE, Rnd)"
   ]
  },
  {
   "cell_type": "code",
   "execution_count": 95,
   "metadata": {},
   "outputs": [
    {
     "name": "stdout",
     "output_type": "stream",
     "text": [
      "1 loop, best of 3: 1.8 s per loop\n"
     ]
    }
   ],
   "source": [
    "%%timeit\n",
    "centrality = ApproxEdgeCentrality(testG, testG.GetNodes() / 10, 5 * testG.GetNodes())"
   ]
  },
  {
   "cell_type": "code",
   "execution_count": 96,
   "metadata": {},
   "outputs": [
    {
     "name": "stdout",
     "output_type": "stream",
     "text": [
      "1 loop, best of 3: 21.8 s per loop\n"
     ]
    }
   ],
   "source": [
    "%%timeit\n",
    "ExactEdgeCentrality(testG)"
   ]
  },
  {
   "cell_type": "code",
   "execution_count": null,
   "metadata": {},
   "outputs": [],
   "source": []
  }
 ],
 "metadata": {
  "kernelspec": {
   "display_name": "cs224w",
   "language": "python",
   "name": "cs224w"
  },
  "language_info": {
   "codemirror_mode": {
    "name": "ipython",
    "version": 2
   },
   "file_extension": ".py",
   "mimetype": "text/x-python",
   "name": "python",
   "nbconvert_exporter": "python",
   "pygments_lexer": "ipython2",
   "version": "2.7.10"
  }
 },
 "nbformat": 4,
 "nbformat_minor": 2
}
