{
 "cells": [
  {
   "cell_type": "code",
   "execution_count": 147,
   "metadata": {},
   "outputs": [],
   "source": [
    "import os\n",
    "\n",
    "import snap\n",
    "import numpy as np\n",
    "import matplotlib.pyplot as plt\n",
    "\n",
    "from collections import Counter"
   ]
  },
  {
   "cell_type": "code",
   "execution_count": 58,
   "metadata": {},
   "outputs": [],
   "source": [
    "RANDOM_SEED = 42\n",
    "SUCCESS = -1"
   ]
  },
  {
   "cell_type": "code",
   "execution_count": 59,
   "metadata": {},
   "outputs": [],
   "source": [
    "def loadPowerGridNetwork():\n",
    "    '''\n",
    "    Loads the US Power Grid network as a snap.TUNGraph\n",
    "    '''\n",
    "    path = 'data/USpowergrid_n4941.txt'\n",
    "    Graph = snap.LoadEdgeList(snap.PUNGraph, path, 0, 1, \" \")\n",
    "    # Delete self-edges.\n",
    "    for node in Graph.Nodes():\n",
    "        Graph.DelEdge(node.GetId(), node.GetId())\n",
    "    assert Graph.GetNodes() == 4941\n",
    "    assert Graph.GetEdges() == 6594\n",
    "    return Graph"
   ]
  },
  {
   "cell_type": "code",
   "execution_count": 63,
   "metadata": {},
   "outputs": [],
   "source": [
    "def GenerateConfigurationModel(nodeDegrees):\n",
    "    '''\n",
    "    Given a list corresponding to the degree distribution, generates\n",
    "    a random, undirected network with the same degree distribution.\n",
    "    \n",
    "    The degree distribution assumed undirected edges.\n",
    "    \n",
    "    return: snap.TUNGraph\n",
    "    '''\n",
    "    # Note that this must hold true for any valid graph since each\n",
    "    # edge increases the degree count by 2.\n",
    "    assert sum(nodeDegrees) % 2 == 0\n",
    "    numNodes = len(nodeDegrees)\n",
    "    numEdges = sum(nodeDegrees) / 2\n",
    "    \n",
    "    # Generate graph.\n",
    "    newGraph = snap.TUNGraph.New(numNodes, numEdges)\n",
    "    for i in xrange(numNodes):\n",
    "        newGraph.AddNode(i)\n",
    "        \n",
    "    \n",
    "    # Determine edges.\n",
    "    stubs = np.zeros(2*numEdges, dtype='int')\n",
    "    index = 0\n",
    "    for (i, ki) in enumerate(nodeDegrees):\n",
    "        for _ in xrange(ki):\n",
    "            stubs[index] = i\n",
    "            index += 1\n",
    "    # Sanity check the last value is correct.\n",
    "    assert stubs[-1] == (numNodes - 1)\n",
    "    \n",
    "    # Keep trying until we we a valid shuffling.\n",
    "    validated = False\n",
    "    while not validated:\n",
    "        np.random.shuffle(stubs)\n",
    "        # Edges are always from lower to higher node id to avoid\n",
    "        # ambiguity.\n",
    "        edges = [(min(stubs[i], stubs[i + 1]),\n",
    "                  max(stubs[i], stubs[i + 1]))\n",
    "                 for i in xrange(0, len(stubs), 2)] \n",
    "        validated = (len(set(edges)) == len(edges) # no multi-edges\n",
    "                     and \n",
    "                     all([u != v for (u,v) in edges])) # no self-edges\n",
    "                     \n",
    "    \n",
    "    # Add edges to graph.\n",
    "    for (src, dst) in edges:\n",
    "        assert newGraph.AddEdge(src, dst) == SUCCESS\n",
    "        \n",
    "    assert newGraph.GetNodes() == numNodes\n",
    "    assert newGraph.GetEdges() == numEdges\n",
    "    # Validate node degree distribution is equivalent.\n",
    "    assert sorted(nodeDegrees) == sorted([node.GetDeg()\n",
    "                                   for node in newGraph.Nodes()])\n",
    "    \n",
    "    return newGraph"
   ]
  },
  {
   "cell_type": "code",
   "execution_count": 64,
   "metadata": {},
   "outputs": [],
   "source": [
    "def Q1_1a():\n",
    "    NUM_SAMPLE_NETWORKS = 100\n",
    "    np.random.seed(RANDOM_SEED)\n",
    "    powerGrid = loadPowerGridNetwork()\n",
    "    dist = [node.GetDeg() for node in powerGrid.Nodes()]\n",
    "    clusteringCoeffs = [snap.GetClustCf(GenerateConfigurationModel(dist))\n",
    "                        for _ in xrange(NUM_SAMPLE_NETWORKS)]\n",
    "    print(\"The mean of the average clustering coefficient for %s random \"\n",
    "          \"network%s with the same degree distribution as the power \"\n",
    "          \"grid network is %s.\" % (\n",
    "              NUM_SAMPLE_NETWORKS,\n",
    "              \"\" if NUM_SAMPLE_NETWORKS <= 1 else \"s\",\n",
    "              np.mean(clusteringCoeffs)))"
   ]
  },
  {
   "cell_type": "code",
   "execution_count": 65,
   "metadata": {},
   "outputs": [
    {
     "name": "stdout",
     "output_type": "stream",
     "text": [
      "The mean of the average clustering coefficient for 100 random networks with the same degree distribution as the power grid network is 0.000427366228043.\n"
     ]
    }
   ],
   "source": [
    "# Run Q1a\n",
    "Q1_1a()"
   ]
  },
  {
   "cell_type": "code",
   "execution_count": 130,
   "metadata": {},
   "outputs": [],
   "source": [
    "def EdgeRewiringConfigurationModel(Graph, numIters=100):\n",
    "    '''\n",
    "    Given a snap.TUNGraph as input, performs rewiring on the graph\n",
    "    numIters times.\n",
    "    \n",
    "    Returns the rewired graph (a copy of the original)\n",
    "    '''\n",
    "    # Implicit ordering of min -> max.\n",
    "    edges = [(min(edge.GetSrcNId(), edge.GetDstNId()),\n",
    "              max(edge.GetSrcNId(), edge.GetDstNId()))\n",
    "             for edge in Graph.Edges()]\n",
    "    indexes = np.arange(len(edges))\n",
    "    edgeMap = {i : (u,v) for i, (u,v) in enumerate(edges)}\n",
    "    edgeCount = Counter(edges)\n",
    "    iters = 0\n",
    "    while iters < numIters:\n",
    "        # Find a valid rewiring.\n",
    "        isValid = False\n",
    "        while not isValid:\n",
    "            # Select the edge indexes for efficiency.\n",
    "            rand_i = np.random.choice(indexes, size=2, replace=False)\n",
    "            uindex = np.random.choice([0,1])\n",
    "            windex = np.random.choice([0,1])\n",
    "            u,v = (edgeMap[rand_i[0]][uindex], edgeMap[rand_i[0]][1 - uindex])\n",
    "            w,x = (edgeMap[rand_i[1]][windex], edgeMap[rand_i[1]][1 - windex])\n",
    "            # The new proposed edges are\n",
    "            # (min(u,w), max(u,w)) and\n",
    "            # (min(v,x), max(v,x))\n",
    "            proposed = sorted([(min(u,w), max(u,w)),\n",
    "                               (min(v,x), max(v,x))])\n",
    "            isValid = (\n",
    "                # We rewired but kept edges the same.\n",
    "                # Can happen when a node is shared.\n",
    "                (len(set([u,v,w,x])) == 3 # node is shared\n",
    "                 and\n",
    "                 # new are same as original (implies no self-edges and no multi-edges)\n",
    "                 (proposed == sorted([edgeMap[rand_i[0]], edgeMap[rand_i[1]]]))\n",
    "                )\n",
    "                or\n",
    "                (u != w and v != x # no self edges\n",
    "                 and\n",
    "                 edgeCount[proposed[0]] == 0 and edgeCount[proposed[1]] == 0\n",
    "                 # no multi edges\n",
    "                )\n",
    "            )\n",
    "\n",
    "        # no rewiring needed here.\n",
    "        if (len(set([u,v,w,x])) == 3):\n",
    "            assert proposed == sorted([edgeMap[rand_i[0]], edgeMap[rand_i[1]]])\n",
    "        else:\n",
    "            # Delete edges by decrementing count.\n",
    "            edgeCount[edgeMap[rand_i[0]]] -= 1\n",
    "            assert edgeCount[edgeMap[rand_i[0]]] == 0\n",
    "            edgeCount[edgeMap[rand_i[1]]] -= 1\n",
    "            assert edgeCount[edgeMap[rand_i[1]]] == 0\n",
    "\n",
    "            # Add new edges by replacing.\n",
    "            edgeMap[rand_i[0]] = proposed[0]\n",
    "            edgeMap[rand_i[1]] = proposed[1]\n",
    "            edgeCount[edgeMap[rand_i[0]]] += 1\n",
    "            assert edgeCount[edgeMap[rand_i[0]]] == 1\n",
    "            edgeCount[edgeMap[rand_i[1]]] += 1\n",
    "            assert edgeCount[edgeMap[rand_i[1]]] == 1\n",
    "        \n",
    "        # Increment\n",
    "        iters += 1\n",
    "    \n",
    "    # We should have finished rewiring so create new graph.\n",
    "    newGraph = snap.TUNGraph.New(Graph.GetNodes(), Graph.GetEdges())\n",
    "    for node in Graph.Nodes():\n",
    "        newGraph.AddNode(node.GetId())\n",
    "    for u,v in edgeMap.values():\n",
    "        assert newGraph.AddEdge(u,v) == SUCCESS\n",
    "        \n",
    "    assert newGraph.GetNodes() == Graph.GetNodes()\n",
    "    assert newGraph.GetEdges() == Graph.GetEdges()\n",
    "    # Validate node degree distribution is equivalent.\n",
    "    assert (sorted([node.GetDeg() for node in Graph.Nodes()])\n",
    "            == sorted([node.GetDeg() for node in newGraph.Nodes()]))\n",
    "        \n",
    "    # We expect the degree distributions to be the same.\n",
    "    return newGraph"
   ]
  },
  {
   "cell_type": "code",
   "execution_count": 175,
   "metadata": {},
   "outputs": [],
   "source": [
    "def Q1_2():\n",
    "    TOTAL_ITERS = 10000\n",
    "    PER_ITERS = 100\n",
    "    assert TOTAL_ITERS % PER_ITERS == 0\n",
    "    X = range(0, TOTAL_ITERS, PER_ITERS)\n",
    "    Y = []\n",
    "    graph = loadPowerGridNetwork()\n",
    "    for _ in X:\n",
    "        Y.append(snap.GetClustCf(graph))\n",
    "        graph = EdgeRewiringConfigurationModel(graph, PER_ITERS)\n",
    "    plt.close()\n",
    "    plt.plot(X,Y)\n",
    "    plt.title(\"US PowerGrid Clustering Coeff. vs # of edge rewirings.\")\n",
    "    plt.xlabel(\"Number of Edge Rewirings\")\n",
    "    plt.ylabel(\"Clustering coefficient\")\n",
    "    if not os.path.isdir(\"output\"):\n",
    "        os.makedirs(\"output\")\n",
    "    plt.savefig(\"output/1_2_plot\", dpi=600)\n",
    "    plt.show()"
   ]
  },
  {
   "cell_type": "code",
   "execution_count": 176,
   "metadata": {},
   "outputs": [
    {
     "data": {
      "image/png": "[encoded data removed]",
      "text/plain": [
       "<matplotlib.figure.Figure at 0x103af2150>"
      ]
     },
     "metadata": {},
     "output_type": "display_data"
    }
   ],
   "source": [
    "Q1_2()"
   ]
  },
  {
   "cell_type": "code",
   "execution_count": null,
   "metadata": {},
   "outputs": [],
   "source": []
  }
 ],
 "metadata": {
  "kernelspec": {
   "display_name": "cs224w",
   "language": "python",
   "name": "cs224w"
  },
  "language_info": {
   "codemirror_mode": {
    "name": "ipython",
    "version": 2
   },
   "file_extension": ".py",
   "mimetype": "text/x-python",
   "name": "python",
   "nbconvert_exporter": "python",
   "pygments_lexer": "ipython2",
   "version": "2.7.10"
  }
 },
 "nbformat": 4,
 "nbformat_minor": 2
}
