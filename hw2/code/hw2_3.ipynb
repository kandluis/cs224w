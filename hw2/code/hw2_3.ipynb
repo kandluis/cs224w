{
 "cells": [
  {
   "cell_type": "code",
   "execution_count": 4,
   "metadata": {},
   "outputs": [],
   "source": [
    "################################################################################\n",
    "# CS 224W (Fall 2017) - HW2\n",
    "# Code for Problem 3.1\n",
    "# Author: luis0@stanford.edu\n",
    "# Last Updated: Oct 26, 2017\n",
    "################################################################################\n",
    "\n",
    "import os\n",
    "\n",
    "import snap\n",
    "import random\n",
    "import matplotlib.pyplot as plt\n",
    "\n",
    "\n",
    "from enum import Enum\n",
    "from collections import Counter"
   ]
  },
  {
   "cell_type": "code",
   "execution_count": 5,
   "metadata": {},
   "outputs": [],
   "source": [
    "VoterState = Enum('VoterState', 'UNDECIDED VOTEA VOTEB')\n",
    "    \n",
    "def removeSelfEdges(G):\n",
    "    for edge in G.Edges():\n",
    "        u, v = edge.GetId()\n",
    "        if u == v:\n",
    "            G.DelEdge(u,v)\n",
    "    return G"
   ]
  },
  {
   "cell_type": "code",
   "execution_count": 6,
   "metadata": {},
   "outputs": [],
   "source": [
    "def assignInitialVotes(G):\n",
    "    '''\n",
    "    Assigns the initial voting configuration to each node in G and returns\n",
    "    a map for every node to VoterState. Also returns a list of nodeIds that\n",
    "    are undecided.\n",
    "    '''\n",
    "    state = {}\n",
    "    undecided = []\n",
    "    for node in G.Nodes():\n",
    "        lastDigit = node.GetId() % 10\n",
    "        if lastDigit in [0,1,2,3]:\n",
    "            state[node.GetId()] = VoterState.VOTEA\n",
    "        elif lastDigit in [4,5,6,7]:\n",
    "            state[node.GetId()] = VoterState.VOTEB\n",
    "        else:\n",
    "            state[node.GetId()] = VoterState.UNDECIDED\n",
    "            undecided.append(node.GetId())\n",
    "    return (state, undecided)\n",
    " "
   ]
  },
  {
   "cell_type": "code",
   "execution_count": 7,
   "metadata": {},
   "outputs": [],
   "source": [
    "def loadGraphs(filenames):\n",
    "    '''\n",
    "    Loads the graphs and return a map specifying each voters\n",
    "    current state.\n",
    "    \n",
    "    returns: [(Graph, State, Undecided)] - list of tuple of graph, \n",
    "    dictionary mapping nodeIds to their current VoterState, and list\n",
    "    of undecided nodeIds for each graph loaded.\n",
    "    '''\n",
    "    result = []\n",
    "    for filename in filenames:\n",
    "        G = removeSelfEdges(\n",
    "            snap.LoadEdgeList(snap.PUNGraph, filename, 0, 1))\n",
    "        votes, undecided = assignInitialVotes(G)\n",
    "        result.append((G, votes, undecided))\n",
    "    return result"
   ]
  },
  {
   "cell_type": "code",
   "execution_count": 8,
   "metadata": {},
   "outputs": [],
   "source": [
    "def getVote(node, votes):\n",
    "    '''\n",
    "    Determine the voting state of snap.NodeI based on current votes of all\n",
    "    other nodes.\n",
    "    \n",
    "    return: VoterState for node.\n",
    "    '''\n",
    "    global defaultVote\n",
    "    voteA = 0 \n",
    "    voteB = 0\n",
    "    counts = Counter([votes[node.GetNbrNId(i)] for i in xrange(node.GetDeg())])\n",
    "    \n",
    "    myVote = VoterState.UNDECIDED\n",
    "    if counts[VoterState.VOTEA] > counts[VoterState.VOTEB]:\n",
    "        myVote = VoterState.VOTEA\n",
    "    elif counts[VoterState.VOTEA] < counts[VoterState.VOTEB]:\n",
    "        myVote = VoterState.VOTEB\n",
    "    else:\n",
    "        myVote = defaultVote\n",
    "        defaultVote = (VoterState.VOTEB\n",
    "                       if defaultVote == VoterState.VOTEA\n",
    "                       else VoterState.VOTEA)\n",
    "    assert myVote != VoterState.UNDECIDED\n",
    "    return myVote"
   ]
  },
  {
   "cell_type": "code",
   "execution_count": 9,
   "metadata": {},
   "outputs": [],
   "source": [
    "def runProcessOnGraph(G, votes, undecidedList):\n",
    "    '''\n",
    "    Performs the process descdribed in 3.1 for one iteration.\n",
    "    undecidedList must already be sorted.\n",
    "    \n",
    "    return: all values modified in place (except undecidedList).\n",
    "    '''\n",
    "    for nodeId in undecidedList:\n",
    "        votes[nodeId] = getVote(G.GetNI(nodeId), votes)"
   ]
  },
  {
   "cell_type": "code",
   "execution_count": 10,
   "metadata": {},
   "outputs": [],
   "source": [
    "def runProcess(graphData, numIters=10):\n",
    "    '''\n",
    "    returns a list of results for each graph. Each result is a tuple\n",
    "    of the winner and the # of votes the election was won by.\n",
    "    '''\n",
    "    global defaultVote\n",
    "    defaultVote = VoterState.VOTEA\n",
    "    results = []\n",
    "    for G, votes, undecided in graphData:\n",
    "        for _ in xrange(numIters):\n",
    "            runProcessOnGraph(G, votes, undecided)\n",
    "            voteCount = Counter(votes.values())\n",
    "            assert voteCount[VoterState.UNDECIDED] == 0\n",
    "        results.append((\"A\"\n",
    "            if voteCount[VoterState.VOTEA] > voteCount[VoterState.VOTEB]\n",
    "            else \"B\" if voteCount[VoterState.VOTEA] <  voteCount[VoterState.VOTEB]\n",
    "            else \"UNDECIDED\",\n",
    "            abs(voteCount[VoterState.VOTEA] - voteCount[VoterState.VOTEB])\n",
    "        ))\n",
    "    return results"
   ]
  },
  {
   "cell_type": "code",
   "execution_count": 11,
   "metadata": {},
   "outputs": [],
   "source": [
    "def Q3_1():\n",
    "    NUM_DAYS = 10\n",
    "    filenames = ['data/graph%s.txt' % (i + 1) for i in xrange(2)]\n",
    "    graphData = loadGraphs(filenames)\n",
    "    results = runProcess(graphData, NUM_DAYS)\n",
    "    for i, (winner, voteDiff) in enumerate(results):\n",
    "        print(\"Candidate %s wins by %s votes in Graph %s.\" % (\n",
    "            winner, voteDiff, i + 1))"
   ]
  },
  {
   "cell_type": "code",
   "execution_count": 12,
   "metadata": {},
   "outputs": [
    {
     "name": "stdout",
     "output_type": "stream",
     "text": [
      "Candidate B wins by 76 votes in Graph 1.\n",
      "Candidate B wins by 350 votes in Graph 2.\n"
     ]
    }
   ],
   "source": [
    "Q3_1()"
   ]
  },
  {
   "cell_type": "code",
   "execution_count": 13,
   "metadata": {},
   "outputs": [],
   "source": [
    "def Q3_2():\n",
    "    NUM_DAYS = 10\n",
    "    filenames = ['data/graph%s.txt' % (i + 1) for i in xrange(2)]\n",
    "    X = range(0, 9001, 1000)\n",
    "    Ys = [[] for _ in filenames]\n",
    "    for k in X:\n",
    "        # load the default graph configuration.\n",
    "        graphData = loadGraphs(filenames)\n",
    "        affectedVoters = xrange(3000, 3000 + k / 100)\n",
    "        # Spend your advertising money! Always spend *some* amount.\n",
    "        for i in xrange(len(graphData)):\n",
    "            G, votes, undecided = graphData[i]\n",
    "            removed = 0\n",
    "            for affectedVoter in affectedVoters:\n",
    "                if votes[affectedVoter] == VoterState.UNDECIDED:\n",
    "                    removed += 1\n",
    "                votes[affectedVoter] = VoterState.VOTEA\n",
    "            newUndecided = [nodeId for nodeId in votes\n",
    "                             if votes[nodeId] == VoterState.UNDECIDED]\n",
    "            assert len(newUndecided) == len(undecided) - removed\n",
    "            graphData[i] = (G, votes, newUndecided)\n",
    "        results = runProcess(graphData, NUM_DAYS)\n",
    "        assert len(results) == len(Ys)\n",
    "        for i, (winner, margin) in enumerate(results):\n",
    "            assert winner == \"A\" or winner == \"B\"\n",
    "            Ys[i].append(margin if winner == \"A\" else -margin)\n",
    "    plt.close()\n",
    "    for Y in Ys:\n",
    "        plt.plot(X,Y)\n",
    "    plt.legend([\"Graph%s\" % (i + 1)\n",
    "                for i in xrange(len(Ys))], loc='upper left')\n",
    "    plt.xlabel(\"Amount Spent in Advertising ($)\")\n",
    "    plt.ylabel(\"Margin of Victory for A\")\n",
    "    plt.title(\"Margin of Victory as AdSpend on A\")\n",
    "    if not os.path.isdir(\"output\"):\n",
    "        os.makedirs(\"output\")\n",
    "    plt.savefig(\"output/3_2_plot\", dpi=600)\n",
    "    plt.show()\n",
    "    \n",
    "    minimums = []\n",
    "    for Y in Ys:\n",
    "        for i, y in enumerate(Y):\n",
    "            if y > 0:\n",
    "                assert i + 1 < len(Y)\n",
    "                minimums.append((X[i], Y[i+1]))\n",
    "                break\n",
    "    for i, (spend, margin) in enumerate(minimums):\n",
    "        print(\"We can spend about $%s (based on our experiments) \"\n",
    "              \"and win the election on Graph %s in favor of A \"\n",
    "              \"by %s votes.\" % (spend, i + 1, margin))\n",
    "                "
   ]
  },
  {
   "cell_type": "code",
   "execution_count": 14,
   "metadata": {},
   "outputs": [
    {
     "data": {
      "image/png": "[encoded data removed]",
      "text/plain": [
       "<matplotlib.figure.Figure at 0x10cabb990>"
      ]
     },
     "metadata": {},
     "output_type": "display_data"
    },
    {
     "name": "stdout",
     "output_type": "stream",
     "text": [
      "We can spend about $5000 (based on our experiments) and win the election on Graph 1 in favor of A by 36 votes.\n",
      "We can spend about $7000 (based on our experiments) and win the election on Graph 2 in favor of A by 24 votes.\n"
     ]
    }
   ],
   "source": [
    "Q3_2()"
   ]
  },
  {
   "cell_type": "code",
   "execution_count": 15,
   "metadata": {},
   "outputs": [],
   "source": [
    "def getSortedHighRollers(G):\n",
    "    '''\n",
    "    Returns sorted tuples of (nodeDegree, nodeID)\n",
    "    '''\n",
    "    nodeinfo = [(node.GetDeg(), node.GetId()) for node in G.Nodes()]\n",
    "    return sorted(nodeinfo, key = lambda x: (-x[0], x[1]))"
   ]
  },
  {
   "cell_type": "code",
   "execution_count": 16,
   "metadata": {},
   "outputs": [],
   "source": [
    "def Q3_3():\n",
    "    NUM_DAYS = 10\n",
    "    filenames = ['data/graph%s.txt' % (i + 1) for i in xrange(2)]\n",
    "    X = range(0, 9001, 1000)\n",
    "    Ys = [[] for _ in filenames]\n",
    "    # Get all highrollers for each graph.\n",
    "    Graphs = loadGraphs(filenames)\n",
    "    highRollers = []\n",
    "    for Graph, _, _ in Graphs:\n",
    "        highRollers.append(getSortedHighRollers(Graph))\n",
    "    \n",
    "    for k in X:\n",
    "        # load the default graph configuration.\n",
    "        graphData = loadGraphs(filenames)\n",
    "        # Spend your advertising money! Always spend *some* amount.\n",
    "        for i in xrange(len(graphData)):\n",
    "            G, votes, undecided = graphData[i]\n",
    "            removed = 0\n",
    "            affectedVoters = [nodeID\n",
    "                              for _, nodeID in highRollers[i][:k / 1000]]\n",
    "            for affectedVoter in affectedVoters:\n",
    "                if votes[affectedVoter] == VoterState.UNDECIDED:\n",
    "                    removed += 1\n",
    "                votes[affectedVoter] = VoterState.VOTEA\n",
    "            newUndecided = [nodeId for nodeId in votes\n",
    "                             if votes[nodeId] == VoterState.UNDECIDED]\n",
    "            assert len(newUndecided) == len(undecided) - removed\n",
    "            graphData[i] = (G, votes, newUndecided)\n",
    "        results = runProcess(graphData, NUM_DAYS)\n",
    "        assert len(results) == len(Ys)\n",
    "        for i, (winner, margin) in enumerate(results):\n",
    "            assert winner == \"A\" or winner == \"B\"\n",
    "            Ys[i].append(margin if winner == \"A\" else -margin)\n",
    "    plt.close()\n",
    "    for Y in Ys:\n",
    "        plt.plot(X,Y)\n",
    "    plt.legend([\"Graph%s\" % (i + 1)\n",
    "                for i in xrange(len(Ys))], loc='upper left')\n",
    "    plt.xlabel(\"Amount Spent Dining High Rollers ($)\")\n",
    "    plt.ylabel(\"Margin of Victory for A\")\n",
    "    plt.title(\"Margin of Victory as $ Spent dining High Rollers\")\n",
    "    if not os.path.isdir(\"output\"):\n",
    "        os.makedirs(\"output\")\n",
    "    plt.savefig(\"output/3_3_plot\", dpi=600)\n",
    "    plt.show()\n",
    "    \n",
    "    minimums = []\n",
    "    for Y in Ys:\n",
    "        appended = False\n",
    "        for i, y in enumerate(Y):\n",
    "            if y > 0:\n",
    "                assert i + 1 < len(Y)\n",
    "                minimums.append((X[i], Y[i+1]))\n",
    "                appended = True\n",
    "                break\n",
    "        if not appended:\n",
    "            minimums.append((None, None))\n",
    "    for i, (spend, margin) in enumerate(minimums):\n",
    "        print(\"We can spend $%s and win the election on Graph \"\n",
    "              \"%s in favor of A by %s votes.\" % (spend, i + 1, margin))"
   ]
  },
  {
   "cell_type": "code",
   "execution_count": 17,
   "metadata": {},
   "outputs": [
    {
     "data": {
      "image/png": "[encoded data removed]",
      "text/plain": [
       "<matplotlib.figure.Figure at 0x10cb85450>"
      ]
     },
     "metadata": {},
     "output_type": "display_data"
    },
    {
     "name": "stdout",
     "output_type": "stream",
     "text": [
      "We can spend $None and win the election on Graph 1 in favor of A by None votes.\n",
      "We can spend $6000 and win the election on Graph 2 in favor of A by 142 votes.\n"
     ]
    }
   ],
   "source": [
    "Q3_3()"
   ]
  },
  {
   "cell_type": "code",
   "execution_count": 18,
   "metadata": {},
   "outputs": [],
   "source": [
    "def getDataPointsToPlot(Graph):\n",
    "    \"\"\"\n",
    "    :param - Graph: snap.PUNGraph object representing an undirected graph\n",
    "    \n",
    "    return values:\n",
    "    X: list of degrees\n",
    "    Y: list of frequencies: Y[i] = fraction of nodes with degree X[i]\n",
    "    \"\"\"\n",
    "    degreeDistribution = snap.TIntPrV()\n",
    "    snap.GetDegCnt(Graph, degreeDistribution)\n",
    "    N = float(Graph.GetNodes())\n",
    "    X, Y = [], []\n",
    "    for item in degreeDistribution:\n",
    "        X.append(item.GetVal1())\n",
    "        Y.append(float(item.GetVal2()) / N)\n",
    "    return X, Y"
   ]
  },
  {
   "cell_type": "code",
   "execution_count": 21,
   "metadata": {},
   "outputs": [],
   "source": [
    "def Q3_4():\n",
    "    filenames = ['data/graph%s.txt' % (i + 1) for i in xrange(2)]\n",
    "    graphData = loadGraphs(filenames)\n",
    "    \n",
    "    plt.close()\n",
    "    for G, _, _ in graphData:\n",
    "        X,Y = getDataPointsToPlot(G)\n",
    "        plt.loglog(X, Y)\n",
    "        \n",
    "    plt.xlabel('Node Degree (log)')\n",
    "    plt.ylabel('Proportion of Nodes with a Given Degree (log)')\n",
    "    plt.title('Degree Distribution of Graph 1 and Graph 2')\n",
    "    plt.legend([\"Graph%s\" % (i + 1)\n",
    "                for i in xrange(len(graphData))], loc='upper left')\n",
    "    plt.savefig(\"output/3_4_plot\", dpi=600)\n",
    "    plt.show()"
   ]
  },
  {
   "cell_type": "code",
   "execution_count": 22,
   "metadata": {},
   "outputs": [
    {
     "data": {
      "image/png": "[encoded data removed]",
      "text/plain": [
       "<matplotlib.figure.Figure at 0x10cc4e790>"
      ]
     },
     "metadata": {},
     "output_type": "display_data"
    }
   ],
   "source": [
    "Q3_4()"
   ]
  },
  {
   "cell_type": "code",
   "execution_count": null,
   "metadata": {},
   "outputs": [],
   "source": []
  }
 ],
 "metadata": {
  "kernelspec": {
   "display_name": "cs224w",
   "language": "python",
   "name": "cs224w"
  },
  "language_info": {
   "codemirror_mode": {
    "name": "ipython",
    "version": 2
   },
   "file_extension": ".py",
   "mimetype": "text/x-python",
   "name": "python",
   "nbconvert_exporter": "python",
   "pygments_lexer": "ipython2",
   "version": "2.7.10"
  }
 },
 "nbformat": 4,
 "nbformat_minor": 2
}
