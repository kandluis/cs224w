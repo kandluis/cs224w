{
 "cells": [
  {
   "cell_type": "code",
   "execution_count": 151,
   "metadata": {},
   "outputs": [],
   "source": [
    "################################################################################\n",
    "# CS 224W (Fall 2017) - HW1\n",
    "# Code for Problem 1\n",
    "# Author: luis0@stanford.edu\n",
    "# Last Updated: Oct 8, 2017\n",
    "################################################################################\n",
    "\n",
    "import snap\n",
    "import matplotlib.pyplot as plt\n",
    "import numpy as np\n",
    "from enum import Enum"
   ]
  },
  {
   "cell_type": "markdown",
   "metadata": {},
   "source": [
    "# 2.1: Node Positions"
   ]
  },
  {
   "cell_type": "code",
   "execution_count": 39,
   "metadata": {},
   "outputs": [],
   "source": [
    "# Load networks.\n",
    "def loadNetworks():\n",
    "    '''\n",
    "    Loads the epinions and email networks.\n",
    "    returns: (epinions, email)\n",
    "    '''\n",
    "    epinions = snap.LoadEdgeList(\n",
    "        snap.PNGraph, \"data/soc-Epinions1.txt\", 0, 1, \"\\t\")\n",
    "    assert epinions.GetNodes() == 75879\n",
    "    assert epinions.GetEdges() == 508837\n",
    "    email = snap.LoadEdgeList(\n",
    "        snap.PNGraph, \"data/email-EuAll.txt\", 0, 1, \"\\t\")\n",
    "    assert email.GetNodes() == 265214\n",
    "    assert email.GetEdges() == 420045\n",
    "    return (epinions, email)"
   ]
  },
  {
   "cell_type": "code",
   "execution_count": 53,
   "metadata": {},
   "outputs": [],
   "source": [
    "class Location(Enum):\n",
    "    IN = \"In Component\"\n",
    "    OUT = \"Out Component\"\n",
    "    SCC = \"Strongly Connected Component\"\n",
    "    AMBIGUOUS = \"Ambiguous Component\"\n",
    "    \n",
    "def determineLocation(Graph, nodeID):\n",
    "    '''\n",
    "    Given a nodeID, determines if it belongs to the SCC, IN, or OUT\n",
    "    components of the Graph using heuristics and assuming the Graph\n",
    "    has a BowTie structure.\n",
    "    \n",
    "    Assumptions based on Experiments:\n",
    "        IN nodes have < 1e-4% backwards trees, > 15% forward.\n",
    "        OUT nodes have < 1e-4% forward trees, > 15% forward.\n",
    "        SCC nodes have > 15% in both directions.\n",
    "        All else is considered \"AMBIGUOUS\"\n",
    "        \n",
    "    returns: Location\n",
    "    '''\n",
    "    forwardTree = snap.GetBfsTree(Graph, nodeID, True, False)\n",
    "    backwardTree = snap.GetBfsTree(Graph, nodeID, False, True)\n",
    "    N = float(Graph.GetNodes())\n",
    "    forward_p = forwardTree.GetNodes() / N\n",
    "    backward_p = backwardTree.GetNodes() / N\n",
    "    if forward_p > 0.15 and backward_p < 1e-4: return Location.IN\n",
    "    if forward_p < 1e-4 and backward_p > 0.15: return Location.OUT\n",
    "    if forward_p > 0.15 and backward_p > 0.15: return Location.SCC\n",
    "    return Location.AMBIGUOUS"
   ]
  },
  {
   "cell_type": "code",
   "execution_count": 56,
   "metadata": {},
   "outputs": [],
   "source": [
    "def Q2_1():\n",
    "    epinions, email = loadNetworks()\n",
    "    \n",
    "    idToNetwork = {9809: (\"epinions\", epinions),\n",
    "                   1952: (\"epinions\", epinions),\n",
    "                   189587: (\"email\", email),\n",
    "                   675: (\"email\", email)}\n",
    "    for (nodeID, (name, Graph)) in idToNetwork.iteritems():\n",
    "        print(\"Node %s in the %s graph belongs to the %s.\" % (\n",
    "                nodeID, name, determineLocation(Graph, nodeID).value))"
   ]
  },
  {
   "cell_type": "code",
   "execution_count": 57,
   "metadata": {},
   "outputs": [
    {
     "name": "stdout",
     "output_type": "stream",
     "text": [
      "Node 1952 in the epinions graph belongs to the In Component.\n",
      "Node 9809 in the epinions graph belongs to the Out Component.\n",
      "Node 189587 in the email graph belongs to the Strongly Connected Component.\n",
      "Node 675 in the email graph belongs to the Out Component.\n"
     ]
    }
   ],
   "source": [
    "# Run Question 2.1 rough approximations.\n",
    "Q2_1()"
   ]
  },
  {
   "cell_type": "markdown",
   "metadata": {},
   "source": [
    "## 2.1: Experiments."
   ]
  },
  {
   "cell_type": "code",
   "execution_count": 103,
   "metadata": {},
   "outputs": [],
   "source": [
    "def GetForwardBackwardProp(Graph, nodeID):\n",
    "    '''\n",
    "    Returns the proportion of nodes visited during a forward/backward\n",
    "    bfs starting at nodeID\n",
    "    '''\n",
    "    \n",
    "    forwardTree = snap.GetBfsTree(Graph, nodeID, True, False)\n",
    "    backwardTree = snap.GetBfsTree(Graph, nodeID, False, True)\n",
    "    return (float(forwardTree.GetNodes()) / Graph.GetNodes(),\n",
    "            float(backwardTree.GetNodes()) / Graph.GetNodes())"
   ]
  },
  {
   "cell_type": "code",
   "execution_count": 104,
   "metadata": {},
   "outputs": [],
   "source": [
    "# Load graphs.\n",
    "epinions, email = loadNetworks()"
   ]
  },
  {
   "cell_type": "markdown",
   "metadata": {},
   "source": [
    "### Email Model"
   ]
  },
  {
   "cell_type": "code",
   "execution_count": 119,
   "metadata": {},
   "outputs": [
    {
     "name": "stdout",
     "output_type": "stream",
     "text": [
      "Email SCC: 12.8963780193.\n"
     ]
    }
   ],
   "source": [
    "# Let's find the size of the largest SCC.\n",
    "emailSCC = snap.GetMxScc(email)\n",
    "print(\"Email SCC: %s.\" % (\n",
    "    100*float(emailSCC.GetNodes()) / email.GetNodes()))"
   ]
  },
  {
   "cell_type": "code",
   "execution_count": 120,
   "metadata": {},
   "outputs": [
    {
     "name": "stdout",
     "output_type": "stream",
     "text": [
      "Forward 0.196456446492 and Backward 0.698402045141 for ID: 189587.\n"
     ]
    }
   ],
   "source": [
    "# The proposal is that 189587 is in SCC, so we have:\n",
    "# SCC + OUT = 19.6456446492%\n",
    "# OUT = 6.7492666299%\n",
    "# SCC + IN =  69.8402045141%\n",
    "# IN = 56.9438264948%\n",
    "# OTHER: 23.410528856%\n",
    "fp, bp =  GetForwardBackwardProp(email, 189587)\n",
    "print(\"Forward %s and Backward %s for ID: %s.\" % (fp, bp, 189587))"
   ]
  },
  {
   "cell_type": "code",
   "execution_count": 121,
   "metadata": {},
   "outputs": [
    {
     "name": "stdout",
     "output_type": "stream",
     "text": [
      "Forward 3.77054001674e-06 and Backward 0.698454832701 for ID: 675.\n"
     ]
    }
   ],
   "source": [
    "# The proposal is that 675 is in OUT, so we have:\n",
    "# SCC + IN + \\epsilon =  69.8454832701%\n",
    "fp, bp =  GetForwardBackwardProp(email, 675)\n",
    "print(\"Forward %s and Backward %s for ID: %s.\" % (fp, bp, 675))"
   ]
  },
  {
   "cell_type": "code",
   "execution_count": 122,
   "metadata": {},
   "outputs": [
    {
     "name": "stdout",
     "output_type": "stream",
     "text": [
      "Forward 0.196460217032 and Backward 3.77054001674e-06 for ID: 0.\n"
     ]
    }
   ],
   "source": [
    "# We try one more random node to get a better picture.\n",
    "# The proposal is that 0 is in IN, so we have:\n",
    "# SCC + OUT + \\epsilon =  19.6460217032%\n",
    "fp, bp =  GetForwardBackwardProp(email, 0)\n",
    "print(\"Forward %s and Backward %s for ID: %s.\" % (fp, bp, 0))"
   ]
  },
  {
   "cell_type": "markdown",
   "metadata": {},
   "source": [
    "### Epinions Model"
   ]
  },
  {
   "cell_type": "code",
   "execution_count": 124,
   "metadata": {},
   "outputs": [
    {
     "name": "stdout",
     "output_type": "stream",
     "text": [
      "Epinions SCC: 42.4662950223.\n"
     ]
    }
   ],
   "source": [
    "# Let's find the size of the largest SCC.\n",
    "epinionsSCC = snap.GetMxScc(epinions)\n",
    "print(\"Epinions SCC: %s.\" % (\n",
    "    100*float(epinionsSCC.GetNodes()) / epinions.GetNodes()))"
   ]
  },
  {
   "cell_type": "code",
   "execution_count": 109,
   "metadata": {},
   "outputs": [
    {
     "name": "stdout",
     "output_type": "stream",
     "text": [
      "Forward 0.628329313776 and Backward 1.31788768961e-05 for ID: 1952.\n"
     ]
    }
   ],
   "source": [
    "# Proposal: 1952 is in IN region.\n",
    "# SCC + OUT + \\epsilon = 62.8329313776%\n",
    "fp, bp =  GetForwardBackwardProp(epinions, 1952)\n",
    "print(\"Forward %s and Backward %s for ID: %s.\" % (fp, bp, 1952))"
   ]
  },
  {
   "cell_type": "code",
   "execution_count": 108,
   "metadata": {},
   "outputs": [
    {
     "name": "stdout",
     "output_type": "stream",
     "text": [
      "Forward 1.31788768961e-05 and Backward 0.744079389554 for ID: 9809.\n"
     ]
    }
   ],
   "source": [
    "# Proposal: 9809 is in OUT region.\n",
    "# SCC + IN + \\epsilon = 74.4079389554%\n",
    "fp, bp =  GetForwardBackwardProp(epinions, 9809)\n",
    "print(\"Forward %s and Backward %s for ID: %s.\" % (fp, bp, 9809))"
   ]
  },
  {
   "cell_type": "code",
   "execution_count": 128,
   "metadata": {},
   "outputs": [
    {
     "name": "stdout",
     "output_type": "stream",
     "text": [
      "Forward 0.628316134899 and Backward 0.744066210678 for ID: 193.\n"
     ]
    }
   ],
   "source": [
    "# Proposal: 193 is in SCC region.\n",
    "# SCC + OUT = 62.8316134899%\n",
    "# OUT = 20.365318467599997%\n",
    "# SCC + IN = 74.4066210678%\n",
    "# IN = 31.940326045500006%\n",
    "# REST = 5.2280604645999915%\n",
    "fp, bp =  GetForwardBackwardProp(epinions, 193)\n",
    "print(\"Forward %s and Backward %s for ID: %s.\" % (fp, bp, 193))"
   ]
  },
  {
   "cell_type": "markdown",
   "metadata": {},
   "source": [
    "# 2.2: Random-start BFS"
   ]
  },
  {
   "cell_type": "code",
   "execution_count": 129,
   "metadata": {},
   "outputs": [],
   "source": [
    "NUM_NODES = 100\n",
    "Rnd = snap.TRnd(42)\n",
    "Rnd.Randomize()"
   ]
  },
  {
   "cell_type": "code",
   "execution_count": 131,
   "metadata": {},
   "outputs": [],
   "source": [
    "def randomStartTraversalDistribution(Graph):\n",
    "    '''\n",
    "    returns: X, Y where X[i], Y[i] are the number of reached nodes during\n",
    "    the forward and backward passes respectively for the i-th randomly\n",
    "    chosen node.\n",
    "    '''\n",
    "    X, Y = [], []\n",
    "    for i in xrange(NUM_NODES):\n",
    "        srcID = Graph.GetRndNId(Rnd)\n",
    "        X.append(snap.GetBfsTree(Graph, srcID, True, False).GetNodes())\n",
    "        Y.append(snap.GetBfsTree(Graph, srcID, False, True).GetNodes())\n",
    "    return X,Y"
   ]
  },
  {
   "cell_type": "code",
   "execution_count": 192,
   "metadata": {},
   "outputs": [],
   "source": [
    "def getXYAxesFromBFSDistribution(dist):\n",
    "    '''\n",
    "    dist is an array of # of nodes visited on multiple bfs nodes and\n",
    "    contains no 0 nodes.\n",
    "    return: X,Y where (X[i],Y[i]) is the point to be plotted for the cdf\n",
    "    of this this distribution.\n",
    "    '''\n",
    "    filtered = filter(lambda x: x > 0, dist)\n",
    "    return ([float(i) / len(filtered) for i in xrange(len(filtered))],\n",
    "            sorted(filtered))"
   ]
  },
  {
   "cell_type": "code",
   "execution_count": 193,
   "metadata": {},
   "outputs": [],
   "source": [
    "def Q2_2():\n",
    "    epinions, email = loadNetworks()\n",
    "    for name, graph in [(\"email\", email), (\"epinions\", epinions)]:\n",
    "        forward, backward = randomStartTraversalDistribution(graph)\n",
    "        for direction, dist in [(\"forward\", forward),\n",
    "                                (\"backward\", backward)]:\n",
    "            X, Y = getXYAxesFromBFSDistribution(dist)\n",
    "            plt.close()\n",
    "            plt.plot(X, Y)\n",
    "            plt.yscale(\"log\", base=10)\n",
    "            plt.xlabel(\"frac. of starting nodes\")\n",
    "            plt.ylabel(\"number of nodes reached\")\n",
    "            plt.title(\"Reachability using %s-links\" % (\n",
    "                      \"out\" if direction == \"forward\" else \"in\"))\n",
    "            plt.savefig(\"output/bfs_cdf_%s_%s_graph\" % (direction, name),\n",
    "                        dpi=600)\n",
    "            plt.show()"
   ]
  },
  {
   "cell_type": "code",
   "execution_count": 194,
   "metadata": {},
   "outputs": [
    {
     "data": {
      "image/png": "[encoded data removed]",
      "text/plain": [
       "<matplotlib.figure.Figure at 0x1149f8d50>"
      ]
     },
     "metadata": {},
     "output_type": "display_data"
    },
    {
     "data": {
      "image/png": "[encoded data removed]",
      "text/plain": [
       "<matplotlib.figure.Figure at 0x116a20d10>"
      ]
     },
     "metadata": {},
     "output_type": "display_data"
    },
    {
     "data": {
      "image/png": "[encoded data removed]",
      "text/plain": [
       "<matplotlib.figure.Figure at 0x117f515d0>"
      ]
     },
     "metadata": {},
     "output_type": "display_data"
    },
    {
     "data": {
      "image/png": "[encoded data removed]",
      "text/plain": [
       "<matplotlib.figure.Figure at 0x10dd9abd0>"
      ]
     },
     "metadata": {},
     "output_type": "display_data"
    }
   ],
   "source": [
    "Q2_2()"
   ]
  },
  {
   "cell_type": "markdown",
   "metadata": {},
   "source": [
    "### 2.2 Experiments"
   ]
  },
  {
   "cell_type": "code",
   "execution_count": 223,
   "metadata": {},
   "outputs": [],
   "source": [
    "from collections import Counter"
   ]
  },
  {
   "cell_type": "code",
   "execution_count": 224,
   "metadata": {},
   "outputs": [
    {
     "data": {
      "text/plain": [
       "Counter({(1, 2): 6,\n",
       "         (1, 3): 1,\n",
       "         (1, 185227): 7,\n",
       "         (2, 1): 15,\n",
       "         (8, 1): 1,\n",
       "         (52103, 185226): 19,\n",
       "         (52104, 1): 51})"
      ]
     },
     "execution_count": 224,
     "metadata": {},
     "output_type": "execute_result"
    }
   ],
   "source": [
    "# Count of unique results for random start bfs for email.\n",
    "Counter(zip(*randomStartTraversalDistribution(email)))"
   ]
  },
  {
   "cell_type": "markdown",
   "metadata": {},
   "source": [
    "The BFS traversal behavior appears to imply that we have a bowtie structure since a very large percentage of the randomly chosen nodes \"exploded\" when following forward links (51%), 19% \"exploded\" when following both forward and back links, and a small minority (7%) when following backward links. The above also implies that we have a very large IN region (half of nodes), a relatively large SCC (1/5 of nodes), a small OUT region, with a somewhat large number of nodes completely disconnected from the graph (~23%) or forming very small tendrils."
   ]
  },
  {
   "cell_type": "code",
   "execution_count": 225,
   "metadata": {},
   "outputs": [
    {
     "data": {
      "text/plain": [
       "Counter({(1, 2): 2,\n",
       "         (1, 3): 1,\n",
       "         (1, 56460): 17,\n",
       "         (1, 56461): 1,\n",
       "         (1, 56463): 1,\n",
       "         (2, 1): 1,\n",
       "         (2, 56461): 1,\n",
       "         (3, 4): 1,\n",
       "         (47676, 56459): 39,\n",
       "         (47677, 1): 26,\n",
       "         (47677, 2): 2,\n",
       "         (47677, 3): 1,\n",
       "         (47678, 1): 3,\n",
       "         (47678, 2): 1,\n",
       "         (47678, 3): 1,\n",
       "         (47679, 1): 1,\n",
       "         (47685, 12): 1})"
      ]
     },
     "execution_count": 225,
     "metadata": {},
     "output_type": "execute_result"
    }
   ],
   "source": [
    "# Count of unique results for random start bfs for epinions.\n",
    "Counter(zip(*randomStartTraversalDistribution(epinions)))"
   ]
  },
  {
   "cell_type": "markdown",
   "metadata": {},
   "source": [
    "The BFS traversal here also appears to imply a bowtie structure, though somewhat more complicated IN/OUT regions since it appears that it can take up to 10 steps to go from IN -> SCC and up to 3 to go from OUT -> SCC, so these regions appear more elongated. We still have, however, a large (39%) SCC, a large (20%) OUT region, a large (36%) IN region, and a small percentage of short tendrils or possibly disconnected regions (5%)."
   ]
  },
  {
   "cell_type": "code",
   "execution_count": 206,
   "metadata": {},
   "outputs": [],
   "source": [
    "def SizeOfBowtieRegions(Graph, sccNodeID):\n",
    "    '''\n",
    "    Given a Graph with a BowTie structure as described in\n",
    "    http://snap.stanford.edu/class/cs224w-readings/broder00bowtie.pdf\n",
    "    and an sccNodeID of a node known to belong to the central SCC,\n",
    "    determines the size of each component.\n",
    "    \n",
    "    returns: tuple of sizes (SCC, IN, OUT, TENDRILS, DISCONNECTED)\n",
    "    '''\n",
    "    totalNodes = Graph.GetNodes()\n",
    "    wcc = snap.GetMxWcc(Graph)\n",
    "    assert wcc.IsNode(sccNodeID)\n",
    "    wccNodes = wcc.GetNodes()\n",
    "    disconnectedNodes = totalNodes - wccNodes\n",
    "    \n",
    "    scc = snap.GetMxScc(Graph)\n",
    "    # Sanity check the input.\n",
    "    assert scc.IsNode(sccNodeID)\n",
    "    sccNodes = scc.GetNodes()\n",
    "    \n",
    "    sccAndOutNodes = snap.GetBfsTree(\n",
    "        Graph, sccNodeID, True, False).GetNodes()\n",
    "    sccAndInNodes = snap.GetBfsTree(\n",
    "        Graph, sccNodeID, False, True).GetNodes()\n",
    "    \n",
    "    inNodes = sccAndInNodes - sccNodes\n",
    "    outNodes = sccAndOutNodes - sccNodes\n",
    "    tendrilNodes = wccNodes - (inNodes + outNodes + sccNodes)\n",
    "    \n",
    "    nodes = (sccNodes, inNodes, outNodes, tendrilNodes, disconnectedNodes)\n",
    "    assert sum(nodes) == Graph.GetNodes()\n",
    "    return nodes"
   ]
  },
  {
   "cell_type": "code",
   "execution_count": 218,
   "metadata": {},
   "outputs": [],
   "source": [
    "def Q2_3():\n",
    "    '''\n",
    "    The SCC knows are based on previous BFS experiments.\n",
    "    '''\n",
    "    epinions, email = loadNetworks()\n",
    "    emailKnownSCCNode = 189587\n",
    "    print(\"Size of regions in email network: \"\n",
    "          \"SCC: %s, IN: %s, OUT: %s, TENDRILS: %s, \"\n",
    "          \"DISCONNECTED: %s\" % SizeOfBowtieRegions(email,\n",
    "                                                 emailKnownSCCNode))\n",
    "    epinionsKnownSCCNode = 193\n",
    "    print(\"Size of regions in epinions network: \"\n",
    "          \"SCC: %s, IN: %s, OUT: %s, TENDRILS: %s, \"\n",
    "          \"DISCONNECTED: %s\" % SizeOfBowtieRegions(epinions,\n",
    "                                                  epinionsKnownSCCNode))"
   ]
  },
  {
   "cell_type": "code",
   "execution_count": 219,
   "metadata": {},
   "outputs": [
    {
     "name": "stdout",
     "output_type": "stream",
     "text": [
      "Size of regions in email network: SCC: 34203, IN: 151023, OUT: 17900, TENDRILS: 21706, DISCONNECTED: 40382\n",
      "Size of regions in epinions network: SCC: 32223, IN: 24236, OUT: 15453, TENDRILS: 3965, DISCONNECTED: 2\n"
     ]
    }
   ],
   "source": [
    "Q2_3()"
   ]
  },
  {
   "cell_type": "markdown",
   "metadata": {},
   "source": [
    "# 2.4: Probability of a Path Existing Between Two Randomly Chosen Nodes"
   ]
  },
  {
   "cell_type": "markdown",
   "metadata": {},
   "source": [
    "## Uniformly Randomly Chosen"
   ]
  },
  {
   "cell_type": "code",
   "execution_count": 231,
   "metadata": {},
   "outputs": [],
   "source": [
    "Rnd = snap.TRnd(42)\n",
    "Rnd.Randomize()"
   ]
  },
  {
   "cell_type": "code",
   "execution_count": 247,
   "metadata": {},
   "outputs": [],
   "source": [
    "NO_PATH = -1\n",
    "def ProbabilityOfPath(Graph, nSamples=1000):\n",
    "    '''\n",
    "    Given a graph, returns the sampled probability of two nodes being\n",
    "    connected. Takes nSamples of (u,v) pairs to check for path\n",
    "    connectedness.\n",
    "    '''\n",
    "    paths = 0.0\n",
    "    for _ in xrange(nSamples):\n",
    "        u, v = Graph.GetRndNId(Rnd), Graph.GetRndNId(Rnd)\n",
    "        if snap.GetShortPath(Graph, u, v, True) != NO_PATH: paths += 1\n",
    "    return 100 * paths / nSamples"
   ]
  },
  {
   "cell_type": "code",
   "execution_count": 248,
   "metadata": {},
   "outputs": [],
   "source": [
    "TRIALS = 3\n",
    "def Q2_4():\n",
    "    epinions, email = loadNetworks()\n",
    "    for trial in xrange(TRIALS):\n",
    "        for (name, network) in [(\"Epinions\", epinions), (\"Email\", email)]:\n",
    "            print(\"Probability of path for entire %s is %s.\" % (\n",
    "                name, ProbabilityOfPath(network)))\n",
    "            print(\"Probability of path in largest WCC of %s is %s.\" % (\n",
    "                name, ProbabilityOfPath(snap.GetMxWcc(network))))"
   ]
  },
  {
   "cell_type": "code",
   "execution_count": 249,
   "metadata": {},
   "outputs": [
    {
     "name": "stdout",
     "output_type": "stream",
     "text": [
      "Probability of path for entire Epinions is 45.8.\n",
      "Probability of path in largest WCC of Epinions is 46.1.\n",
      "Probability of path for entire Email is 13.0.\n",
      "Probability of path in largest WCC of Email is 19.8.\n",
      "Probability of path for entire Epinions is 48.6.\n",
      "Probability of path in largest WCC of Epinions is 48.4.\n",
      "Probability of path for entire Email is 14.0.\n",
      "Probability of path in largest WCC of Email is 19.7.\n",
      "Probability of path for entire Epinions is 45.7.\n",
      "Probability of path in largest WCC of Epinions is 44.5.\n",
      "Probability of path for entire Email is 13.0.\n",
      "Probability of path in largest WCC of Email is 19.9.\n"
     ]
    }
   ],
   "source": [
    "Q2_4()"
   ]
  },
  {
   "cell_type": "code",
   "execution_count": null,
   "metadata": {},
   "outputs": [],
   "source": []
  }
 ],
 "metadata": {
  "kernelspec": {
   "display_name": "cs224w",
   "language": "python",
   "name": "cs224w"
  },
  "language_info": {
   "codemirror_mode": {
    "name": "ipython",
    "version": 2
   },
   "file_extension": ".py",
   "mimetype": "text/x-python",
   "name": "python",
   "nbconvert_exporter": "python",
   "pygments_lexer": "ipython2",
   "version": "2.7.10"
  }
 },
 "nbformat": 4,
 "nbformat_minor": 2
}
